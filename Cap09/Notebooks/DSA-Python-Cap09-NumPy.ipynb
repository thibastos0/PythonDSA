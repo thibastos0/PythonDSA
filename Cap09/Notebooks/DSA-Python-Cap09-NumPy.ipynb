{
  "cells": [
    {
      "cell_type": "markdown",
      "metadata": {
        "id": "25cVgmsjud0Y"
      },
      "source": [
        "# <font color='blue'>Data Science Academy</font>\n",
        "\n",
        "## <font color='blue'>Fundamentos de Linguagem Python Para Análise de Dados e Data Science</font>\n",
        "\n",
        "## <font color='blue'>Matemática e Manipulação de Matrizes com NumPy</font>"
      ]
    },
    {
      "cell_type": "markdown",
      "metadata": {
        "id": "q7VloWt-ud0a"
      },
      "source": [
        "![DSA](https://github.com/thibastos0/PythonDSA/blob/main/Cap09/Notebooks/imagens/dsa_cap09.png?raw=1)"
      ]
    },
    {
      "cell_type": "code",
      "execution_count": 2,
      "metadata": {
        "id": "U4KjuGSGud0b",
        "outputId": "737645bc-6f9a-47cd-d8e8-79d4d00c0f9a",
        "colab": {
          "base_uri": "https://localhost:8080/"
        }
      },
      "outputs": [
        {
          "output_type": "stream",
          "name": "stdout",
          "text": [
            "Versão da Linguagem Python Usada Neste Jupyter Notebook: 3.11.11\n"
          ]
        }
      ],
      "source": [
        "# Versão da Linguagem Python\n",
        "from platform import python_version\n",
        "print('Versão da Linguagem Python Usada Neste Jupyter Notebook:', python_version())"
      ]
    },
    {
      "cell_type": "markdown",
      "metadata": {
        "id": "mSvGyMWSud0h"
      },
      "source": [
        "## NumPy\n",
        "\n",
        "https://numpy.org/"
      ]
    },
    {
      "cell_type": "code",
      "execution_count": 4,
      "metadata": {
        "id": "B9_oz9UHud0i"
      },
      "outputs": [],
      "source": [
        "# Importando o NumPy\n",
        "import numpy as dsa"
      ]
    },
    {
      "cell_type": "code",
      "execution_count": null,
      "metadata": {
        "id": "jVTVZHC-ud0i",
        "outputId": "3cdee7c0-cd5c-45fb-9cab-4c8f563f1f9c",
        "colab": {
          "base_uri": "https://localhost:8080/",
          "height": 35
        }
      },
      "outputs": [
        {
          "output_type": "execute_result",
          "data": {
            "text/plain": [
              "'1.26.4'"
            ],
            "application/vnd.google.colaboratory.intrinsic+json": {
              "type": "string"
            }
          },
          "metadata": {},
          "execution_count": 7
        }
      ],
      "source": [
        "dsa.__version__"
      ]
    },
    {
      "cell_type": "code",
      "execution_count": null,
      "metadata": {
        "id": "jPt6NUCxud0j"
      },
      "outputs": [],
      "source": [
        "# Instrução para instalar uma versão exata do pacote em Python\n",
        "# !pip install numpy==1.22.2"
      ]
    },
    {
      "cell_type": "markdown",
      "metadata": {
        "id": "dXRNr96gud0j"
      },
      "source": [
        "### Criando Arrays NumPy"
      ]
    },
    {
      "cell_type": "code",
      "execution_count": null,
      "metadata": {
        "id": "jfNCtVI2ud0k"
      },
      "outputs": [],
      "source": [
        "# Array criado a partir de uma lista Python\n",
        "arr1 = dsa.array([10, 21, 32, 43, 48, 15, 76, 57, 89])"
      ]
    },
    {
      "cell_type": "code",
      "execution_count": null,
      "metadata": {
        "id": "Nrbl8ckcud0l",
        "outputId": "31b4ac10-896e-4011-c9c0-8639787ec478",
        "colab": {
          "base_uri": "https://localhost:8080/"
        }
      },
      "outputs": [
        {
          "output_type": "stream",
          "name": "stdout",
          "text": [
            "[10 21 32 43 48 15 76 57 89]\n"
          ]
        }
      ],
      "source": [
        "print(arr1)"
      ]
    },
    {
      "cell_type": "code",
      "execution_count": null,
      "metadata": {
        "id": "XKZLU4PYud0l",
        "outputId": "c0743158-d8a2-4846-ef36-659c29e62d7e",
        "colab": {
          "base_uri": "https://localhost:8080/"
        }
      },
      "outputs": [
        {
          "output_type": "execute_result",
          "data": {
            "text/plain": [
              "numpy.ndarray"
            ]
          },
          "metadata": {},
          "execution_count": 11
        }
      ],
      "source": [
        "# Um objeto do tipo ndarray é um recipiente multidimensional de itens do mesmo tipo e tamanho\n",
        "type(arr1)"
      ]
    },
    {
      "cell_type": "code",
      "execution_count": null,
      "metadata": {
        "id": "jinkUpLZud0n",
        "outputId": "3d5469d3-d81d-4f83-d893-3745b9e30230",
        "colab": {
          "base_uri": "https://localhost:8080/"
        }
      },
      "outputs": [
        {
          "output_type": "execute_result",
          "data": {
            "text/plain": [
              "(9,)"
            ]
          },
          "metadata": {},
          "execution_count": 12
        }
      ],
      "source": [
        "# Verificando o formato do array\n",
        "arr1.shape"
      ]
    },
    {
      "cell_type": "markdown",
      "metadata": {
        "id": "Zkzn59AZud0n"
      },
      "source": [
        "Um array NumPy é uma estrutura de dados multidimensional usada em computação científica e análise de dados. O NumPy fornece um objeto de matriz N-dimensional (ou ndarray), que é uma grade homogênea de elementos, geralmente números, que podem ser indexados por um conjunto de inteiros.\n",
        "\n",
        "Os arrays NumPy são mais eficientes do que as listas Python para armazenar e manipular grandes quantidades de dados, pois são implementados em Linguagem C e fornecem várias otimizações de desempenho. Além disso, o NumPy permite a fácil leitura e escrita de arquivos de dados, integração com outras bibliotecas Python e suporte a operações em paralelo usando várias CPUs ou GPUs."
      ]
    },
    {
      "cell_type": "markdown",
      "metadata": {
        "id": "ceLfw39Rud0o"
      },
      "source": [
        "![DSA](https://github.com/thibastos0/PythonDSA/blob/main/Cap09/Notebooks/imagens/formatos.png?raw=1)"
      ]
    },
    {
      "cell_type": "markdown",
      "metadata": {
        "id": "bogTx5aEud0o"
      },
      "source": [
        "### Indexação em Arrays NumPy"
      ]
    },
    {
      "cell_type": "code",
      "execution_count": null,
      "metadata": {
        "id": "hyo8Lv6dud0p",
        "outputId": "4e65b42e-e6e6-4178-be56-0e10baee6013",
        "colab": {
          "base_uri": "https://localhost:8080/"
        }
      },
      "outputs": [
        {
          "output_type": "stream",
          "name": "stdout",
          "text": [
            "[10 21 32 43 48 15 76 57 89]\n"
          ]
        }
      ],
      "source": [
        "print(arr1)"
      ]
    },
    {
      "cell_type": "code",
      "execution_count": null,
      "metadata": {
        "id": "vxdDxpIlud0q",
        "outputId": "5b11b1a9-e037-4005-f620-8af0d273e360",
        "colab": {
          "base_uri": "https://localhost:8080/"
        }
      },
      "outputs": [
        {
          "output_type": "execute_result",
          "data": {
            "text/plain": [
              "48"
            ]
          },
          "metadata": {},
          "execution_count": 15
        }
      ],
      "source": [
        "# Imprimindo um elemento específico no array\n",
        "arr1[4]"
      ]
    },
    {
      "cell_type": "code",
      "execution_count": null,
      "metadata": {
        "id": "UapInrQZud0q",
        "outputId": "997fd9c9-d7d3-4ad4-b759-fea38af7bf7e",
        "colab": {
          "base_uri": "https://localhost:8080/"
        }
      },
      "outputs": [
        {
          "output_type": "execute_result",
          "data": {
            "text/plain": [
              "array([21, 32, 43])"
            ]
          },
          "metadata": {},
          "execution_count": 16
        }
      ],
      "source": [
        "# Indexação\n",
        "arr1[1:4]"
      ]
    },
    {
      "cell_type": "code",
      "execution_count": null,
      "metadata": {
        "id": "CwiWeOaxud0r",
        "outputId": "4a2de871-d38a-43de-dbfb-1556dcf8591b",
        "colab": {
          "base_uri": "https://localhost:8080/"
        }
      },
      "outputs": [
        {
          "output_type": "execute_result",
          "data": {
            "text/plain": [
              "array([21, 32, 43, 48])"
            ]
          },
          "metadata": {},
          "execution_count": 17
        }
      ],
      "source": [
        "# Indexação\n",
        "arr1[1:4+1]"
      ]
    },
    {
      "cell_type": "code",
      "execution_count": null,
      "metadata": {
        "id": "gsgEMMGuud0t"
      },
      "outputs": [],
      "source": [
        "# Cria uma lista de índices\n",
        "indices = [1, 2, 5, 6]"
      ]
    },
    {
      "cell_type": "code",
      "execution_count": null,
      "metadata": {
        "id": "atNMc2WTud0t",
        "outputId": "412a0c31-981d-4ddc-8b5b-c14174af8eab",
        "colab": {
          "base_uri": "https://localhost:8080/"
        }
      },
      "outputs": [
        {
          "output_type": "execute_result",
          "data": {
            "text/plain": [
              "array([21, 32, 15, 76])"
            ]
          },
          "metadata": {},
          "execution_count": 19
        }
      ],
      "source": [
        "# Imprimindo os elementos dos índices\n",
        "arr1[indices]"
      ]
    },
    {
      "cell_type": "code",
      "execution_count": null,
      "metadata": {
        "id": "WfOKe8wjud0v"
      },
      "outputs": [],
      "source": [
        "# Cria uma máscara booleana para os elementos pares\n",
        "mask = (arr1 % 2 == 0)"
      ]
    },
    {
      "cell_type": "code",
      "execution_count": null,
      "metadata": {
        "id": "9COX5WK_ud0v",
        "outputId": "762ab838-81fa-48ca-cdbc-e2d979ad57aa",
        "colab": {
          "base_uri": "https://localhost:8080/"
        }
      },
      "outputs": [
        {
          "output_type": "execute_result",
          "data": {
            "text/plain": [
              "array([ True, False,  True, False,  True, False,  True, False, False])"
            ]
          },
          "metadata": {},
          "execution_count": 21
        }
      ],
      "source": [
        "mask"
      ]
    },
    {
      "cell_type": "code",
      "execution_count": null,
      "metadata": {
        "id": "6omrPS3Rud0w",
        "outputId": "226d4361-c15f-4b8d-c2d5-6878fc94ee9d",
        "colab": {
          "base_uri": "https://localhost:8080/"
        }
      },
      "outputs": [
        {
          "output_type": "execute_result",
          "data": {
            "text/plain": [
              "array([10, 32, 48, 76])"
            ]
          },
          "metadata": {},
          "execution_count": 22
        }
      ],
      "source": [
        "arr1[mask]"
      ]
    },
    {
      "cell_type": "code",
      "execution_count": null,
      "metadata": {
        "id": "hM3uF9Jeud0w"
      },
      "outputs": [],
      "source": [
        "# Alterando um elemento do array\n",
        "arr1[0] = 100"
      ]
    },
    {
      "cell_type": "code",
      "execution_count": null,
      "metadata": {
        "id": "FZf6U9UDud0w",
        "outputId": "c28158b2-87a2-40de-be74-8462ae6058be",
        "colab": {
          "base_uri": "https://localhost:8080/"
        }
      },
      "outputs": [
        {
          "output_type": "stream",
          "name": "stdout",
          "text": [
            "[100  21  32  43  48  15  76  57  89]\n"
          ]
        }
      ],
      "source": [
        "print(arr1)"
      ]
    },
    {
      "cell_type": "code",
      "execution_count": null,
      "metadata": {
        "id": "PI6W-inKud0x",
        "outputId": "0667f1dd-c240-4028-aed1-d14194abaec0",
        "colab": {
          "base_uri": "https://localhost:8080/"
        }
      },
      "outputs": [
        {
          "output_type": "stream",
          "name": "stdout",
          "text": [
            "Operação não permitida!\n"
          ]
        }
      ],
      "source": [
        "# Não é possível incluir elemento de outro tipo\n",
        "try:\n",
        "    arr1[0] = 'Novo elemento'\n",
        "except:\n",
        "    print(\"Operação não permitida!\")"
      ]
    },
    {
      "cell_type": "markdown",
      "metadata": {
        "id": "Y9gS58m4ud0x"
      },
      "source": [
        "### Funções NumPy"
      ]
    },
    {
      "cell_type": "code",
      "execution_count": null,
      "metadata": {
        "id": "Dr5D3W3hud0x"
      },
      "outputs": [],
      "source": [
        "# A função array() cria um array NumPy\n",
        "arr2 = dsa.array([1, 2, 3, 4, 5])"
      ]
    },
    {
      "cell_type": "code",
      "execution_count": null,
      "metadata": {
        "id": "PIolf02mud0y",
        "outputId": "dd7976ab-5d49-4044-c1e4-eb3f70ef0ce8",
        "colab": {
          "base_uri": "https://localhost:8080/"
        }
      },
      "outputs": [
        {
          "output_type": "stream",
          "name": "stdout",
          "text": [
            "[1 2 3 4 5]\n"
          ]
        }
      ],
      "source": [
        "print(arr2)"
      ]
    },
    {
      "cell_type": "code",
      "execution_count": null,
      "metadata": {
        "id": "BH6WQEMHud0y",
        "outputId": "e12986ff-f7e3-4cc3-dbc0-798405075508",
        "colab": {
          "base_uri": "https://localhost:8080/"
        }
      },
      "outputs": [
        {
          "output_type": "execute_result",
          "data": {
            "text/plain": [
              "numpy.ndarray"
            ]
          },
          "metadata": {},
          "execution_count": 28
        }
      ],
      "source": [
        "# Verificando o tipo do objeto\n",
        "type(arr2)"
      ]
    },
    {
      "cell_type": "code",
      "execution_count": null,
      "metadata": {
        "id": "S9gyrfqhud0z",
        "outputId": "3217e55f-7713-47ee-84d2-53a5a4c5f6f6",
        "colab": {
          "base_uri": "https://localhost:8080/"
        }
      },
      "outputs": [
        {
          "output_type": "execute_result",
          "data": {
            "text/plain": [
              "array([1, 2, 3, 4, 5])"
            ]
          },
          "metadata": {},
          "execution_count": 29
        }
      ],
      "source": [
        "# Digite . e pressione a tecla Tab no seu teclado para visualizar os métodos disponíveis em objetos NumPy\n",
        "arr2"
      ]
    },
    {
      "cell_type": "code",
      "execution_count": null,
      "metadata": {
        "id": "lZWor8qyud02",
        "outputId": "dfe11658-c08c-4792-b597-f001c9313d9c",
        "colab": {
          "base_uri": "https://localhost:8080/"
        }
      },
      "outputs": [
        {
          "output_type": "execute_result",
          "data": {
            "text/plain": [
              "array([ 1,  3,  6, 10, 15])"
            ]
          },
          "metadata": {},
          "execution_count": 31
        }
      ],
      "source": [
        "# Usando métodos do array NumPy\n",
        "# cumsum - soma acumulada\n",
        "arr2.cumsum()"
      ]
    },
    {
      "cell_type": "code",
      "execution_count": null,
      "metadata": {
        "id": "wjMSWYTDud03",
        "outputId": "75d5bbb7-6faf-4e0b-bc85-077f0426c23f",
        "colab": {
          "base_uri": "https://localhost:8080/"
        }
      },
      "outputs": [
        {
          "output_type": "execute_result",
          "data": {
            "text/plain": [
              "array([  1,   2,   6,  24, 120])"
            ]
          },
          "metadata": {},
          "execution_count": 32
        }
      ],
      "source": [
        "# cumprod - produto acumulado\n",
        "arr2.cumprod()"
      ]
    },
    {
      "cell_type": "code",
      "execution_count": null,
      "metadata": {
        "id": "kuiMBkREud03",
        "outputId": "5ee43867-c04c-462c-c69a-4e4c50dedef4",
        "colab": {
          "base_uri": "https://localhost:8080/"
        }
      },
      "outputs": [
        {
          "output_type": "execute_result",
          "data": {
            "text/plain": [
              "<module 'numpy' from '/usr/local/lib/python3.11/dist-packages/numpy/__init__.py'>"
            ]
          },
          "metadata": {},
          "execution_count": 34
        }
      ],
      "source": [
        "# Digite . e pressione a tecla Tab no seu teclado para visualizar as funções para manipular objetos NumPy\n",
        "dsa"
      ]
    },
    {
      "cell_type": "code",
      "execution_count": null,
      "metadata": {
        "id": "FyvWUXZrud03"
      },
      "outputs": [],
      "source": [
        "# A função arange cria um array NumPy contendo uma progressão aritmética a partir de um intervalo - start, stop, step\n",
        "arr3 = dsa.arange(0, 50, 5)"
      ]
    },
    {
      "cell_type": "code",
      "execution_count": null,
      "metadata": {
        "id": "2I4BJXdPud04",
        "outputId": "20154aeb-b462-4de7-80f1-3ed86729ec39",
        "colab": {
          "base_uri": "https://localhost:8080/"
        }
      },
      "outputs": [
        {
          "output_type": "stream",
          "name": "stdout",
          "text": [
            "[ 0  5 10 15 20 25 30 35 40 45]\n"
          ]
        }
      ],
      "source": [
        "print(arr3)"
      ]
    },
    {
      "cell_type": "code",
      "execution_count": null,
      "metadata": {
        "id": "yIhUMzdwud04",
        "outputId": "40110339-0551-46a0-e2cc-9f057be6e865",
        "colab": {
          "base_uri": "https://localhost:8080/"
        }
      },
      "outputs": [
        {
          "output_type": "execute_result",
          "data": {
            "text/plain": [
              "numpy.ndarray"
            ]
          },
          "metadata": {},
          "execution_count": 54
        }
      ],
      "source": [
        "# Verificando o tipo do objeto\n",
        "type(arr3)"
      ]
    },
    {
      "cell_type": "code",
      "source": [
        "arr3.shape"
      ],
      "metadata": {
        "id": "iiCmvZrr7n8n",
        "outputId": "f094f896-26ff-4323-aba4-c19b5804cc25",
        "colab": {
          "base_uri": "https://localhost:8080/"
        }
      },
      "execution_count": null,
      "outputs": [
        {
          "output_type": "execute_result",
          "data": {
            "text/plain": [
              "(10,)"
            ]
          },
          "metadata": {},
          "execution_count": 55
        }
      ]
    },
    {
      "cell_type": "code",
      "execution_count": null,
      "metadata": {
        "id": "kqDeYxh5ud05",
        "outputId": "1167ab2d-f84a-4d2d-883f-5b4c2294e207",
        "colab": {
          "base_uri": "https://localhost:8080/"
        }
      },
      "outputs": [
        {
          "output_type": "execute_result",
          "data": {
            "text/plain": [
              "(10,)"
            ]
          },
          "metadata": {},
          "execution_count": 56
        }
      ],
      "source": [
        "# Formato do array\n",
        "dsa.shape(arr3)"
      ]
    },
    {
      "cell_type": "code",
      "execution_count": null,
      "metadata": {
        "id": "dwko33BBud06",
        "outputId": "3f1d8576-9727-416f-f828-3d862e54e901",
        "colab": {
          "base_uri": "https://localhost:8080/"
        }
      },
      "outputs": [
        {
          "output_type": "stream",
          "name": "stdout",
          "text": [
            "int64\n"
          ]
        }
      ],
      "source": [
        "# tipo de dado\n",
        "print(arr3.dtype)"
      ]
    },
    {
      "cell_type": "code",
      "execution_count": null,
      "metadata": {
        "id": "OqfOcMwnud07"
      },
      "outputs": [],
      "source": [
        "# Cria um array preenchido com zeros\n",
        "arr4 = dsa.zeros(10)"
      ]
    },
    {
      "cell_type": "code",
      "execution_count": null,
      "metadata": {
        "id": "iKZYP7Dyud07",
        "outputId": "f4d3f3d8-f7b6-47fe-ad32-c6107d548766",
        "colab": {
          "base_uri": "https://localhost:8080/"
        }
      },
      "outputs": [
        {
          "output_type": "stream",
          "name": "stdout",
          "text": [
            "[0. 0. 0. 0. 0. 0. 0. 0. 0. 0.]\n"
          ]
        }
      ],
      "source": [
        "print(arr4)"
      ]
    },
    {
      "cell_type": "code",
      "execution_count": null,
      "metadata": {
        "id": "rJnAdoJgud08"
      },
      "outputs": [],
      "source": [
        "# Retorna 1 nas posições em diagonal e 0 no restante\n",
        "arr5 = dsa.eye(3)"
      ]
    },
    {
      "cell_type": "code",
      "execution_count": null,
      "metadata": {
        "id": "DLrjVWBhud0-",
        "outputId": "f9e508df-a21b-4537-cfd0-89ff8e2e49ee",
        "colab": {
          "base_uri": "https://localhost:8080/"
        }
      },
      "outputs": [
        {
          "output_type": "stream",
          "name": "stdout",
          "text": [
            "[[1. 0. 0.]\n",
            " [0. 1. 0.]\n",
            " [0. 0. 1.]]\n"
          ]
        }
      ],
      "source": [
        "print(arr5)"
      ]
    },
    {
      "cell_type": "code",
      "execution_count": null,
      "metadata": {
        "id": "Xk6SU4Neud0-"
      },
      "outputs": [],
      "source": [
        "# Os valores passados como parâmetro, formam uma diagonal\n",
        "arr6 = dsa.diag(dsa.array([1, 2, 3, 4]))"
      ]
    },
    {
      "cell_type": "code",
      "execution_count": null,
      "metadata": {
        "id": "r4CHPns_ud0_",
        "outputId": "d753dc0a-f1b7-49ad-ea2b-9bd5e53849f9",
        "colab": {
          "base_uri": "https://localhost:8080/"
        }
      },
      "outputs": [
        {
          "output_type": "stream",
          "name": "stdout",
          "text": [
            "[[1 0 0 0]\n",
            " [0 2 0 0]\n",
            " [0 0 3 0]\n",
            " [0 0 0 4]]\n"
          ]
        }
      ],
      "source": [
        "print(arr6)"
      ]
    },
    {
      "cell_type": "code",
      "execution_count": null,
      "metadata": {
        "id": "j5SDECUPud0_"
      },
      "outputs": [],
      "source": [
        "# Array de valores booleanos\n",
        "arr7 = dsa.array([True, False, False, True])"
      ]
    },
    {
      "cell_type": "code",
      "execution_count": null,
      "metadata": {
        "id": "clRTK_Klud0_",
        "outputId": "80e2ab02-c7b1-4e21-e3d6-b057d9f78552",
        "colab": {
          "base_uri": "https://localhost:8080/"
        }
      },
      "outputs": [
        {
          "output_type": "stream",
          "name": "stdout",
          "text": [
            "[ True False False  True]\n"
          ]
        }
      ],
      "source": [
        "print(arr7)"
      ]
    },
    {
      "cell_type": "code",
      "execution_count": null,
      "metadata": {
        "id": "znyul6F2ud1A"
      },
      "outputs": [],
      "source": [
        "# Array de strings\n",
        "arr8 = dsa.array(['Linguagem Python', 'Linguagem R', 'Linguagem Julia'])"
      ]
    },
    {
      "cell_type": "code",
      "execution_count": null,
      "metadata": {
        "id": "sVDSo2WEud1A",
        "outputId": "357c24b6-8f43-4e02-ff77-4ad10e781fd8",
        "colab": {
          "base_uri": "https://localhost:8080/"
        }
      },
      "outputs": [
        {
          "output_type": "stream",
          "name": "stdout",
          "text": [
            "['Linguagem Python' 'Linguagem R' 'Linguagem Julia']\n"
          ]
        }
      ],
      "source": [
        "print(arr8)"
      ]
    },
    {
      "cell_type": "markdown",
      "metadata": {
        "id": "ybMnkpF0ud1A"
      },
      "source": [
        "A função linspace() do NumPy é usada para criar uma sequência de números igualmente espaçados dentro de um intervalo especificado. Essa função é amplamente utilizada em programação científica e matemática para gerar arrays de números para diversos fins, como gráficos, cálculos e simulações.\n",
        "\n",
        "O método linspace (linearly spaced vector) retorna um número de valores igualmente distribuídos no intervalo especificado."
      ]
    },
    {
      "cell_type": "code",
      "execution_count": null,
      "metadata": {
        "id": "0qtRDb4Nud1B",
        "outputId": "07678a27-bf23-48dd-dfb0-ce722bce3c25",
        "colab": {
          "base_uri": "https://localhost:8080/"
        }
      },
      "outputs": [
        {
          "output_type": "stream",
          "name": "stdout",
          "text": [
            "[ 0.          0.20408163  0.40816327  0.6122449   0.81632653  1.02040816\n",
            "  1.2244898   1.42857143  1.63265306  1.83673469  2.04081633  2.24489796\n",
            "  2.44897959  2.65306122  2.85714286  3.06122449  3.26530612  3.46938776\n",
            "  3.67346939  3.87755102  4.08163265  4.28571429  4.48979592  4.69387755\n",
            "  4.89795918  5.10204082  5.30612245  5.51020408  5.71428571  5.91836735\n",
            "  6.12244898  6.32653061  6.53061224  6.73469388  6.93877551  7.14285714\n",
            "  7.34693878  7.55102041  7.75510204  7.95918367  8.16326531  8.36734694\n",
            "  8.57142857  8.7755102   8.97959184  9.18367347  9.3877551   9.59183673\n",
            "  9.79591837 10.        ]\n"
          ]
        }
      ],
      "source": [
        "print(dsa.linspace(0, 10))"
      ]
    },
    {
      "cell_type": "code",
      "execution_count": null,
      "metadata": {
        "id": "hPX1KBtKud1B",
        "outputId": "1755680a-6c90-42f6-d058-c19eb1ee1700",
        "colab": {
          "base_uri": "https://localhost:8080/"
        }
      },
      "outputs": [
        {
          "output_type": "stream",
          "name": "stdout",
          "text": [
            "[ 0.          0.71428571  1.42857143  2.14285714  2.85714286  3.57142857\n",
            "  4.28571429  5.          5.71428571  6.42857143  7.14285714  7.85714286\n",
            "  8.57142857  9.28571429 10.        ]\n"
          ]
        }
      ],
      "source": [
        "print(dsa.linspace(0, 10, 15))"
      ]
    },
    {
      "cell_type": "markdown",
      "metadata": {
        "id": "4EuYpIlzud1C"
      },
      "source": [
        "A função logspace() do NumPy é usada para criar uma sequência de números igualmente espaçados em escala logarítmica dentro de um intervalo especificado. Essa função é amplamente utilizada em programação científica e matemática para gerar arrays de números para diversos fins, como gráficos, cálculos e simulações."
      ]
    },
    {
      "cell_type": "code",
      "execution_count": null,
      "metadata": {
        "id": "Wfm1JBGKud1C",
        "outputId": "9c792752-e469-485a-ceb1-cf973d19200b",
        "colab": {
          "base_uri": "https://localhost:8080/"
        }
      },
      "outputs": [
        {
          "output_type": "stream",
          "name": "stdout",
          "text": [
            "[1.00000000e+00 3.59381366e+00 1.29154967e+01 4.64158883e+01\n",
            " 1.66810054e+02 5.99484250e+02 2.15443469e+03 7.74263683e+03\n",
            " 2.78255940e+04 1.00000000e+05]\n"
          ]
        }
      ],
      "source": [
        "print(dsa.logspace(0, 5, 10))"
      ]
    },
    {
      "cell_type": "markdown",
      "metadata": {
        "id": "U7dRTGETud1D"
      },
      "source": [
        "### Manipulando Matrizes"
      ]
    },
    {
      "cell_type": "code",
      "execution_count": null,
      "metadata": {
        "id": "WORDicSlud1D"
      },
      "outputs": [],
      "source": [
        "# Criando uma matriz\n",
        "arr9 = dsa.array( [ [1,2,3] , [4,5,6] ] )"
      ]
    },
    {
      "cell_type": "code",
      "execution_count": null,
      "metadata": {
        "id": "qzSl4eN-ud1E",
        "outputId": "d674f261-0a7f-4c0a-e38d-495983f5b5b2",
        "colab": {
          "base_uri": "https://localhost:8080/"
        }
      },
      "outputs": [
        {
          "output_type": "execute_result",
          "data": {
            "text/plain": [
              "numpy.ndarray"
            ]
          },
          "metadata": {},
          "execution_count": 72
        }
      ],
      "source": [
        "type(arr9)"
      ]
    },
    {
      "cell_type": "code",
      "execution_count": null,
      "metadata": {
        "id": "5jn0aHdVud1E",
        "outputId": "3c68f3bc-eb7e-4cc1-934c-755bd2e841ed",
        "colab": {
          "base_uri": "https://localhost:8080/"
        }
      },
      "outputs": [
        {
          "output_type": "stream",
          "name": "stdout",
          "text": [
            "[[1 2 3]\n",
            " [4 5 6]]\n"
          ]
        }
      ],
      "source": [
        "print(arr9)"
      ]
    },
    {
      "cell_type": "code",
      "execution_count": null,
      "metadata": {
        "id": "ujLi-l4eud1E",
        "outputId": "7c3dced9-b6fb-4587-b86a-1467e1a323af",
        "colab": {
          "base_uri": "https://localhost:8080/"
        }
      },
      "outputs": [
        {
          "output_type": "stream",
          "name": "stdout",
          "text": [
            "(2, 3)\n"
          ]
        }
      ],
      "source": [
        "print(arr9.shape)"
      ]
    },
    {
      "cell_type": "code",
      "execution_count": null,
      "metadata": {
        "id": "idtU1TP0ud1F"
      },
      "outputs": [],
      "source": [
        "# Criando uma matriz 2x3 apenas com números \"1\"\n",
        "arr10 = dsa.ones((2,3))"
      ]
    },
    {
      "cell_type": "code",
      "execution_count": null,
      "metadata": {
        "id": "r4VzYyPxud1F",
        "outputId": "eb8ebc47-9804-4d13-fd7c-8f3ff2bc398e",
        "colab": {
          "base_uri": "https://localhost:8080/"
        }
      },
      "outputs": [
        {
          "output_type": "stream",
          "name": "stdout",
          "text": [
            "[[1. 1. 1.]\n",
            " [1. 1. 1.]]\n"
          ]
        }
      ],
      "source": [
        "print(arr10)"
      ]
    },
    {
      "cell_type": "code",
      "execution_count": null,
      "metadata": {
        "id": "09DRJhUDud1F"
      },
      "outputs": [],
      "source": [
        "# Lista de listas\n",
        "lista = [[13,81,22], [0, 34, 59], [21, 48, 94]]"
      ]
    },
    {
      "cell_type": "code",
      "execution_count": null,
      "metadata": {
        "id": "4Sn_Nodzud1G"
      },
      "outputs": [],
      "source": [
        "# A função matrix cria uma matriz a partir de uma lista de listas\n",
        "# matrix é mais utilizado para operações matemáticas\n",
        "# array é mais para análise de dados, machine learning etc.\n",
        "arr11 = dsa.matrix(lista)"
      ]
    },
    {
      "cell_type": "code",
      "execution_count": null,
      "metadata": {
        "id": "WOQE7Mvyud1G",
        "outputId": "f0138d89-1d33-4ef3-92f9-74e610f6a481",
        "colab": {
          "base_uri": "https://localhost:8080/"
        }
      },
      "outputs": [
        {
          "output_type": "execute_result",
          "data": {
            "text/plain": [
              "numpy.matrix"
            ]
          },
          "metadata": {},
          "execution_count": 80
        }
      ],
      "source": [
        "type(arr11)"
      ]
    },
    {
      "cell_type": "code",
      "execution_count": null,
      "metadata": {
        "id": "5-8TG9tyud1G",
        "outputId": "b752de6b-4928-4aaf-91c5-8f5d9c60e1d7",
        "colab": {
          "base_uri": "https://localhost:8080/"
        }
      },
      "outputs": [
        {
          "output_type": "stream",
          "name": "stdout",
          "text": [
            "[[13 81 22]\n",
            " [ 0 34 59]\n",
            " [21 48 94]]\n"
          ]
        }
      ],
      "source": [
        "print(arr11)"
      ]
    },
    {
      "cell_type": "code",
      "execution_count": null,
      "metadata": {
        "id": "V6fu28mOud1L",
        "outputId": "9ec83c3c-b78e-483a-8461-781ed252323b",
        "colab": {
          "base_uri": "https://localhost:8080/"
        }
      },
      "outputs": [
        {
          "output_type": "execute_result",
          "data": {
            "text/plain": [
              "(3, 3)"
            ]
          },
          "metadata": {},
          "execution_count": 82
        }
      ],
      "source": [
        "# Formato da matriz\n",
        "dsa.shape(arr11)"
      ]
    },
    {
      "cell_type": "code",
      "execution_count": null,
      "metadata": {
        "id": "BeS5OLNVud1M",
        "outputId": "9a1aeac7-e6ed-4301-9238-9d63ba31602b",
        "colab": {
          "base_uri": "https://localhost:8080/"
        }
      },
      "outputs": [
        {
          "output_type": "execute_result",
          "data": {
            "text/plain": [
              "9"
            ]
          },
          "metadata": {},
          "execution_count": 83
        }
      ],
      "source": [
        "# Tamanho da matriz\n",
        "arr11.size"
      ]
    },
    {
      "cell_type": "code",
      "execution_count": null,
      "metadata": {
        "id": "K2-SYGutud1M",
        "outputId": "fa28ce7e-c023-4a7d-d0fc-a8d94ce97300",
        "colab": {
          "base_uri": "https://localhost:8080/"
        }
      },
      "outputs": [
        {
          "output_type": "stream",
          "name": "stdout",
          "text": [
            "int64\n"
          ]
        }
      ],
      "source": [
        "print(arr11.dtype)"
      ]
    },
    {
      "cell_type": "code",
      "execution_count": null,
      "metadata": {
        "id": "QQfXZoepud1N",
        "outputId": "23e981e7-8eb2-4c6a-f6eb-9a89ce8072a9",
        "colab": {
          "base_uri": "https://localhost:8080/"
        }
      },
      "outputs": [
        {
          "output_type": "stream",
          "name": "stdout",
          "text": [
            "[[13 81 22]\n",
            " [ 0 34 59]\n",
            " [21 48 94]]\n"
          ]
        }
      ],
      "source": [
        "print(arr11)"
      ]
    },
    {
      "cell_type": "code",
      "execution_count": null,
      "metadata": {
        "scrolled": true,
        "id": "uS_VLdujud1O",
        "outputId": "eaa278f4-5d2b-4a78-dc05-642c9059ebf8",
        "colab": {
          "base_uri": "https://localhost:8080/"
        }
      },
      "outputs": [
        {
          "output_type": "execute_result",
          "data": {
            "text/plain": [
              "48"
            ]
          },
          "metadata": {},
          "execution_count": 86
        }
      ],
      "source": [
        "# Indexação da matriz\n",
        "arr11[2,1]"
      ]
    },
    {
      "cell_type": "code",
      "execution_count": null,
      "metadata": {
        "id": "pt4m3kOhud1O",
        "outputId": "f7bcbb23-7dd2-46e3-9ee3-e8bdd801d7bc",
        "colab": {
          "base_uri": "https://localhost:8080/"
        }
      },
      "outputs": [
        {
          "output_type": "execute_result",
          "data": {
            "text/plain": [
              "matrix([[22],\n",
              "        [59]])"
            ]
          },
          "metadata": {},
          "execution_count": 87
        }
      ],
      "source": [
        "# Indexação da matriz\n",
        "arr11[0:2,2]"
      ]
    },
    {
      "cell_type": "code",
      "execution_count": null,
      "metadata": {
        "id": "aMCzaJrsud1O",
        "outputId": "a2afc4ba-7313-4580-f953-2bbd6405834e",
        "colab": {
          "base_uri": "https://localhost:8080/"
        }
      },
      "outputs": [
        {
          "output_type": "execute_result",
          "data": {
            "text/plain": [
              "matrix([[ 0, 34, 59]])"
            ]
          },
          "metadata": {},
          "execution_count": 88
        }
      ],
      "source": [
        "# Indexação da matriz\n",
        "arr11[1,]"
      ]
    },
    {
      "cell_type": "code",
      "execution_count": null,
      "metadata": {
        "id": "boI7TnwSud1P"
      },
      "outputs": [],
      "source": [
        "# Alterando um elemento da matriz\n",
        "arr11[1,0] = 100"
      ]
    },
    {
      "cell_type": "code",
      "execution_count": null,
      "metadata": {
        "id": "0Kskh9Qfud1P",
        "outputId": "591469ab-3d12-4ccd-86b3-e4d826532059",
        "colab": {
          "base_uri": "https://localhost:8080/"
        }
      },
      "outputs": [
        {
          "output_type": "stream",
          "name": "stdout",
          "text": [
            "[[ 13  81  22]\n",
            " [100  34  59]\n",
            " [ 21  48  94]]\n"
          ]
        }
      ],
      "source": [
        "print(arr11)"
      ]
    },
    {
      "cell_type": "code",
      "execution_count": null,
      "metadata": {
        "id": "HDIjzciYud1Q"
      },
      "outputs": [],
      "source": [
        "x = dsa.array([1, 2])  # NumPy decide o tipo dos dado\n",
        "y = dsa.array([1.0, 2.0])  # NumPy decide o tipo dos dado\n",
        "z = dsa.array([1, 2], dtype = dsa.float64)  # Forçamos um tipo de dado em particular"
      ]
    },
    {
      "cell_type": "code",
      "execution_count": null,
      "metadata": {
        "id": "kskCEuhPud1Q",
        "outputId": "91bb9867-8351-40ee-bac7-fdc544a5368a",
        "colab": {
          "base_uri": "https://localhost:8080/"
        }
      },
      "outputs": [
        {
          "output_type": "stream",
          "name": "stdout",
          "text": [
            "int64 float64 float64\n"
          ]
        }
      ],
      "source": [
        "print(x.dtype, y.dtype, z.dtype)"
      ]
    },
    {
      "cell_type": "code",
      "execution_count": null,
      "metadata": {
        "id": "6GU9wVllud1R"
      },
      "outputs": [],
      "source": [
        "arr12 = dsa.array([[24, 76, 92, 14], [47, 35, 89, 2]], dtype = float)"
      ]
    },
    {
      "cell_type": "code",
      "execution_count": null,
      "metadata": {
        "id": "pX5gXpYFud1S",
        "outputId": "2aa3263e-4191-4ea4-8d62-858dcb9ebffd",
        "colab": {
          "base_uri": "https://localhost:8080/"
        }
      },
      "outputs": [
        {
          "output_type": "stream",
          "name": "stdout",
          "text": [
            "[[24. 76. 92. 14.]\n",
            " [47. 35. 89.  2.]]\n"
          ]
        }
      ],
      "source": [
        "print(arr12)"
      ]
    },
    {
      "cell_type": "markdown",
      "metadata": {
        "id": "3IVcKTjsud1S"
      },
      "source": [
        "O itemsize de um array numpy é um atributo que retorna o tamanho em bytes de cada elemento do array. Em outras palavras, o itemsize representa o número de bytes necessários para armazenar cada valor do array numpy."
      ]
    },
    {
      "cell_type": "code",
      "execution_count": null,
      "metadata": {
        "id": "YkN7py6Fud1S",
        "outputId": "0074fd21-de2c-405c-b3fb-5cb3523c14b2",
        "colab": {
          "base_uri": "https://localhost:8080/"
        }
      },
      "outputs": [
        {
          "output_type": "execute_result",
          "data": {
            "text/plain": [
              "8"
            ]
          },
          "metadata": {},
          "execution_count": 95
        }
      ],
      "source": [
        "arr12.itemsize"
      ]
    },
    {
      "cell_type": "code",
      "execution_count": null,
      "metadata": {
        "id": "QVi5p7n_ud1S",
        "outputId": "aa5619a6-b491-4d1b-adc3-027e66b96b76",
        "colab": {
          "base_uri": "https://localhost:8080/"
        }
      },
      "outputs": [
        {
          "output_type": "execute_result",
          "data": {
            "text/plain": [
              "64"
            ]
          },
          "metadata": {},
          "execution_count": 97
        }
      ],
      "source": [
        "arr12.nbytes"
      ]
    },
    {
      "cell_type": "code",
      "execution_count": null,
      "metadata": {
        "id": "jlyxDOGlud1T",
        "outputId": "82b7e083-9907-4f64-f21b-8da6db02179b",
        "colab": {
          "base_uri": "https://localhost:8080/"
        }
      },
      "outputs": [
        {
          "output_type": "execute_result",
          "data": {
            "text/plain": [
              "2"
            ]
          },
          "metadata": {},
          "execution_count": 98
        }
      ],
      "source": [
        "arr12.ndim"
      ]
    },
    {
      "cell_type": "markdown",
      "metadata": {
        "id": "E0g20910ud1T"
      },
      "source": [
        "### Manipulando Objetos de 3 e 4 Dimensões com NumPy"
      ]
    },
    {
      "cell_type": "code",
      "execution_count": 4,
      "metadata": {
        "id": "KukuQN1Tud1U"
      },
      "outputs": [],
      "source": [
        "# Cria um array numpy de 3 dimensões\n",
        "arr_3d = dsa.array([\n",
        "    [\n",
        "        [1, 2, 3, 4],\n",
        "        [5, 6, 7, 8],\n",
        "        [9, 10, 11, 12]\n",
        "    ],\n",
        "    [\n",
        "        [13, 14, 15, 16],\n",
        "        [17, 18, 19, 20],\n",
        "        [21, 22, 23, 24]\n",
        "    ]\n",
        "])"
      ]
    },
    {
      "cell_type": "code",
      "execution_count": 5,
      "metadata": {
        "id": "dqS0k3IPud1U",
        "outputId": "b88ae897-f7b8-4d84-b69c-3d5c0e2f1127",
        "colab": {
          "base_uri": "https://localhost:8080/"
        }
      },
      "outputs": [
        {
          "output_type": "stream",
          "name": "stdout",
          "text": [
            "[[[ 1  2  3  4]\n",
            "  [ 5  6  7  8]\n",
            "  [ 9 10 11 12]]\n",
            "\n",
            " [[13 14 15 16]\n",
            "  [17 18 19 20]\n",
            "  [21 22 23 24]]]\n"
          ]
        }
      ],
      "source": [
        "print(arr_3d)"
      ]
    },
    {
      "cell_type": "code",
      "execution_count": 6,
      "metadata": {
        "id": "x11ftOZFud1U",
        "outputId": "9c82cd01-333f-4712-eb66-fd57bd9d5905",
        "colab": {
          "base_uri": "https://localhost:8080/"
        }
      },
      "outputs": [
        {
          "output_type": "execute_result",
          "data": {
            "text/plain": [
              "3"
            ]
          },
          "metadata": {},
          "execution_count": 6
        }
      ],
      "source": [
        "arr_3d.ndim"
      ]
    },
    {
      "cell_type": "code",
      "execution_count": 7,
      "metadata": {
        "id": "4yzXIEJqud1V",
        "outputId": "eb24490f-f311-4c62-88bd-81f1051ffd09",
        "colab": {
          "base_uri": "https://localhost:8080/"
        }
      },
      "outputs": [
        {
          "output_type": "execute_result",
          "data": {
            "text/plain": [
              "(2, 3, 4)"
            ]
          },
          "metadata": {},
          "execution_count": 7
        }
      ],
      "source": [
        "arr_3d.shape"
      ]
    },
    {
      "cell_type": "code",
      "execution_count": 8,
      "metadata": {
        "id": "lHMHZYoxud1V",
        "outputId": "d4039f71-471f-48b6-e10e-45bd07765698",
        "colab": {
          "base_uri": "https://localhost:8080/"
        }
      },
      "outputs": [
        {
          "output_type": "execute_result",
          "data": {
            "text/plain": [
              "10"
            ]
          },
          "metadata": {},
          "execution_count": 8
        }
      ],
      "source": [
        "arr_3d[0, 2, 1]"
      ]
    },
    {
      "cell_type": "code",
      "execution_count": 9,
      "metadata": {
        "id": "Z4hqdpKuud1V"
      },
      "outputs": [],
      "source": [
        "# Cria um array numpy de 4 dimensões\n",
        "arr_4d = dsa.array([\n",
        "    [\n",
        "        [\n",
        "            [1, 2, 3, 4, 5],\n",
        "            [6, 7, 8, 9, 10],\n",
        "            [11, 12, 13, 14, 15],\n",
        "            [16, 17, 18, 19, 20]\n",
        "        ],\n",
        "        [\n",
        "            [21, 22, 23, 24, 25],\n",
        "            [26, 27, 28, 29, 30],\n",
        "            [31, 32, 33, 34, 35],\n",
        "            [36, 37, 38, 39, 40]\n",
        "        ],\n",
        "        [\n",
        "            [41, 42, 43, 44, 45],\n",
        "            [46, 47, 48, 49, 50],\n",
        "            [51, 52, 53, 54, 55],\n",
        "            [56, 57, 58, 59, 60]\n",
        "        ]\n",
        "    ],\n",
        "    [\n",
        "        [\n",
        "            [61, 62, 63, 64, 65],\n",
        "            [66, 67, 68, 69, 70],\n",
        "            [71, 72, 73, 74, 75],\n",
        "            [76, 77, 78, 79, 80]\n",
        "        ],\n",
        "        [\n",
        "            [81, 82, 83, 84, 85],\n",
        "            [86, 87, 88, 89, 90],\n",
        "            [91, 92, 93, 94, 95],\n",
        "            [96, 97, 98, 99, 100]\n",
        "        ],\n",
        "        [\n",
        "            [101, 102, 103, 104, 105],\n",
        "            [106, 107, 108, 109, 110],\n",
        "            [111, 112, 113, 114, 115],\n",
        "            [116, 117, 118, 119, 120]\n",
        "        ]\n",
        "    ]\n",
        "])"
      ]
    },
    {
      "cell_type": "code",
      "execution_count": 10,
      "metadata": {
        "id": "3kPcUbotud1W",
        "outputId": "1e9d4d21-c1aa-41e4-b353-fb296dbc3426",
        "colab": {
          "base_uri": "https://localhost:8080/"
        }
      },
      "outputs": [
        {
          "output_type": "stream",
          "name": "stdout",
          "text": [
            "[[[[  1   2   3   4   5]\n",
            "   [  6   7   8   9  10]\n",
            "   [ 11  12  13  14  15]\n",
            "   [ 16  17  18  19  20]]\n",
            "\n",
            "  [[ 21  22  23  24  25]\n",
            "   [ 26  27  28  29  30]\n",
            "   [ 31  32  33  34  35]\n",
            "   [ 36  37  38  39  40]]\n",
            "\n",
            "  [[ 41  42  43  44  45]\n",
            "   [ 46  47  48  49  50]\n",
            "   [ 51  52  53  54  55]\n",
            "   [ 56  57  58  59  60]]]\n",
            "\n",
            "\n",
            " [[[ 61  62  63  64  65]\n",
            "   [ 66  67  68  69  70]\n",
            "   [ 71  72  73  74  75]\n",
            "   [ 76  77  78  79  80]]\n",
            "\n",
            "  [[ 81  82  83  84  85]\n",
            "   [ 86  87  88  89  90]\n",
            "   [ 91  92  93  94  95]\n",
            "   [ 96  97  98  99 100]]\n",
            "\n",
            "  [[101 102 103 104 105]\n",
            "   [106 107 108 109 110]\n",
            "   [111 112 113 114 115]\n",
            "   [116 117 118 119 120]]]]\n"
          ]
        }
      ],
      "source": [
        "print(arr_4d)"
      ]
    },
    {
      "cell_type": "code",
      "execution_count": 11,
      "metadata": {
        "id": "LPSq4Qhhud1W",
        "outputId": "e3e38cbc-ead2-47a1-eabd-d90b4e554055",
        "colab": {
          "base_uri": "https://localhost:8080/"
        }
      },
      "outputs": [
        {
          "output_type": "execute_result",
          "data": {
            "text/plain": [
              "4"
            ]
          },
          "metadata": {},
          "execution_count": 11
        }
      ],
      "source": [
        "arr_4d.ndim"
      ]
    },
    {
      "cell_type": "code",
      "execution_count": 12,
      "metadata": {
        "id": "oXibi34Nud1X",
        "outputId": "c06c61c0-7246-406f-b1f8-2ae45cebd415",
        "colab": {
          "base_uri": "https://localhost:8080/"
        }
      },
      "outputs": [
        {
          "output_type": "execute_result",
          "data": {
            "text/plain": [
              "(2, 3, 4, 5)"
            ]
          },
          "metadata": {},
          "execution_count": 12
        }
      ],
      "source": [
        "arr_4d.shape"
      ]
    },
    {
      "cell_type": "code",
      "execution_count": 13,
      "metadata": {
        "id": "eZauzODvud1X",
        "outputId": "234faafd-57f3-4d8e-d717-f4e0471c5953",
        "colab": {
          "base_uri": "https://localhost:8080/"
        }
      },
      "outputs": [
        {
          "output_type": "execute_result",
          "data": {
            "text/plain": [
              "array([46, 47, 48, 49, 50])"
            ]
          },
          "metadata": {},
          "execution_count": 13
        }
      ],
      "source": [
        "arr_4d[0, 2, 1]"
      ]
    },
    {
      "cell_type": "code",
      "execution_count": 14,
      "metadata": {
        "id": "RBmO4Af6ud1Y",
        "outputId": "ed10d32f-e86a-4df0-ce2c-a56923327bb3",
        "colab": {
          "base_uri": "https://localhost:8080/"
        }
      },
      "outputs": [
        {
          "output_type": "execute_result",
          "data": {
            "text/plain": [
              "50"
            ]
          },
          "metadata": {},
          "execution_count": 14
        }
      ],
      "source": [
        "arr_4d[0, 2, 1, 4]"
      ]
    },
    {
      "cell_type": "markdown",
      "metadata": {
        "id": "fi2gIqFCud1Y"
      },
      "source": [
        "### Manipulando Arquivos com NumPy"
      ]
    },
    {
      "cell_type": "code",
      "execution_count": 3,
      "metadata": {
        "id": "vkutVs_Tud1Z"
      },
      "outputs": [],
      "source": [
        "import os\n",
        "filename = os.path.join('dataset.csv')"
      ]
    },
    {
      "cell_type": "code",
      "source": [
        "!dir"
      ],
      "metadata": {
        "id": "acTSudvpW0X5",
        "outputId": "0f3349e4-38ea-4967-dcfa-4ba91624ecba",
        "colab": {
          "base_uri": "https://localhost:8080/"
        }
      },
      "execution_count": 2,
      "outputs": [
        {
          "output_type": "stream",
          "name": "stdout",
          "text": [
            "dataset.csv  sample_data\n"
          ]
        }
      ]
    },
    {
      "cell_type": "code",
      "execution_count": 1,
      "metadata": {
        "id": "m-X8f0njud1Z",
        "outputId": "1698e3e5-386d-48e4-b84c-2f02d61f7f35",
        "colab": {
          "base_uri": "https://localhost:8080/"
        }
      },
      "outputs": [
        {
          "output_type": "stream",
          "name": "stdout",
          "text": [
            "sepal_length,sepal_width,petal_length,petal_width,species\n",
            "5.1,3.5,1.4,0.2,setosa\n",
            "4.9,3,1.4,0.2,setosa\n",
            "4.7,3.2,1.3,0.2,setosa\n",
            "4.6,3.1,1.5,0.2,setosa\n",
            "5,3.6,1.4,0.2,setosa\n",
            "5.4,3.9,1.7,0.4,setosa\n",
            "4.6,3.4,1.4,0.3,setosa\n",
            "5,3.4,1.5,0.2,setosa\n",
            "4.4,2.9,1.4,0.2,setosa\n"
          ]
        }
      ],
      "source": [
        "# No Windows use !more dataset.csv. Mac ou Linux use !head dataset.csv\n",
        "!head dataset.csv\n",
        "#!more dataset.csv"
      ]
    },
    {
      "cell_type": "code",
      "execution_count": 5,
      "metadata": {
        "id": "Ui-QTVtXud1Z"
      },
      "outputs": [],
      "source": [
        "# Carregando um dataset para dentro de um array\n",
        "arr13 = dsa.loadtxt(filename, delimiter = ',', usecols = (0,1,2,3), skiprows = 1)"
      ]
    },
    {
      "cell_type": "code",
      "execution_count": 6,
      "metadata": {
        "id": "cmld_Vuyud1b",
        "outputId": "f9894704-e426-41e7-fa90-407782846fff",
        "colab": {
          "base_uri": "https://localhost:8080/"
        }
      },
      "outputs": [
        {
          "output_type": "stream",
          "name": "stdout",
          "text": [
            "[[5.1 3.5 1.4 0.2]\n",
            " [4.9 3.  1.4 0.2]\n",
            " [4.7 3.2 1.3 0.2]\n",
            " [4.6 3.1 1.5 0.2]\n",
            " [5.  3.6 1.4 0.2]\n",
            " [5.4 3.9 1.7 0.4]\n",
            " [4.6 3.4 1.4 0.3]\n",
            " [5.  3.4 1.5 0.2]\n",
            " [4.4 2.9 1.4 0.2]\n",
            " [4.9 3.1 1.5 0.1]\n",
            " [5.4 3.7 1.5 0.2]\n",
            " [4.8 3.4 1.6 0.2]\n",
            " [4.8 3.  1.4 0.1]\n",
            " [4.3 3.  1.1 0.1]\n",
            " [5.8 4.  1.2 0.2]\n",
            " [5.7 4.4 1.5 0.4]\n",
            " [5.4 3.9 1.3 0.4]\n",
            " [5.1 3.5 1.4 0.3]\n",
            " [5.7 3.8 1.7 0.3]\n",
            " [5.1 3.8 1.5 0.3]\n",
            " [5.4 3.4 1.7 0.2]\n",
            " [5.1 3.7 1.5 0.4]\n",
            " [4.6 3.6 1.  0.2]\n",
            " [5.1 3.3 1.7 0.5]\n",
            " [4.8 3.4 1.9 0.2]\n",
            " [5.  3.  1.6 0.2]\n",
            " [5.  3.4 1.6 0.4]\n",
            " [5.2 3.5 1.5 0.2]\n",
            " [5.2 3.4 1.4 0.2]\n",
            " [4.7 3.2 1.6 0.2]\n",
            " [4.8 3.1 1.6 0.2]\n",
            " [5.4 3.4 1.5 0.4]\n",
            " [5.2 4.1 1.5 0.1]\n",
            " [5.5 4.2 1.4 0.2]\n",
            " [4.9 3.1 1.5 0.1]\n",
            " [5.  3.2 1.2 0.2]\n",
            " [5.5 3.5 1.3 0.2]\n",
            " [4.9 3.1 1.5 0.1]\n",
            " [4.4 3.  1.3 0.2]\n",
            " [5.1 3.4 1.5 0.2]\n",
            " [5.  3.5 1.3 0.3]\n",
            " [4.5 2.3 1.3 0.3]\n",
            " [4.4 3.2 1.3 0.2]\n",
            " [5.  3.5 1.6 0.6]\n",
            " [5.1 3.8 1.9 0.4]\n",
            " [4.8 3.  1.4 0.3]\n",
            " [5.1 3.8 1.6 0.2]\n",
            " [4.6 3.2 1.4 0.2]\n",
            " [5.3 3.7 1.5 0.2]\n",
            " [5.  3.3 1.4 0.2]\n",
            " [7.  3.2 4.7 1.4]\n",
            " [6.4 3.2 4.5 1.5]\n",
            " [6.9 3.1 4.9 1.5]\n",
            " [5.5 2.3 4.  1.3]\n",
            " [6.5 2.8 4.6 1.5]\n",
            " [5.7 2.8 4.5 1.3]\n",
            " [6.3 3.3 4.7 1.6]\n",
            " [4.9 2.4 3.3 1. ]\n",
            " [6.6 2.9 4.6 1.3]\n",
            " [5.2 2.7 3.9 1.4]\n",
            " [5.  2.  3.5 1. ]\n",
            " [5.9 3.  4.2 1.5]\n",
            " [6.  2.2 4.  1. ]\n",
            " [6.1 2.9 4.7 1.4]\n",
            " [5.6 2.9 3.6 1.3]\n",
            " [6.7 3.1 4.4 1.4]\n",
            " [5.6 3.  4.5 1.5]\n",
            " [5.8 2.7 4.1 1. ]\n",
            " [6.2 2.2 4.5 1.5]\n",
            " [5.6 2.5 3.9 1.1]\n",
            " [5.9 3.2 4.8 1.8]\n",
            " [6.1 2.8 4.  1.3]\n",
            " [6.3 2.5 4.9 1.5]\n",
            " [6.1 2.8 4.7 1.2]\n",
            " [6.4 2.9 4.3 1.3]\n",
            " [6.6 3.  4.4 1.4]\n",
            " [6.8 2.8 4.8 1.4]\n",
            " [6.7 3.  5.  1.7]\n",
            " [6.  2.9 4.5 1.5]\n",
            " [5.7 2.6 3.5 1. ]\n",
            " [5.5 2.4 3.8 1.1]\n",
            " [5.5 2.4 3.7 1. ]\n",
            " [5.8 2.7 3.9 1.2]\n",
            " [6.  2.7 5.1 1.6]\n",
            " [5.4 3.  4.5 1.5]\n",
            " [6.  3.4 4.5 1.6]\n",
            " [6.7 3.1 4.7 1.5]\n",
            " [6.3 2.3 4.4 1.3]\n",
            " [5.6 3.  4.1 1.3]\n",
            " [5.5 2.5 4.  1.3]\n",
            " [5.5 2.6 4.4 1.2]\n",
            " [6.1 3.  4.6 1.4]\n",
            " [5.8 2.6 4.  1.2]\n",
            " [5.  2.3 3.3 1. ]\n",
            " [5.6 2.7 4.2 1.3]\n",
            " [5.7 3.  4.2 1.2]\n",
            " [5.7 2.9 4.2 1.3]\n",
            " [6.2 2.9 4.3 1.3]\n",
            " [5.1 2.5 3.  1.1]\n",
            " [5.7 2.8 4.1 1.3]\n",
            " [6.3 3.3 6.  2.5]\n",
            " [5.8 2.7 5.1 1.9]\n",
            " [7.1 3.  5.9 2.1]\n",
            " [6.3 2.9 5.6 1.8]\n",
            " [6.5 3.  5.8 2.2]\n",
            " [7.6 3.  6.6 2.1]\n",
            " [4.9 2.5 4.5 1.7]\n",
            " [7.3 2.9 6.3 1.8]\n",
            " [6.7 2.5 5.8 1.8]\n",
            " [7.2 3.6 6.1 2.5]\n",
            " [6.5 3.2 5.1 2. ]\n",
            " [6.4 2.7 5.3 1.9]\n",
            " [6.8 3.  5.5 2.1]\n",
            " [5.7 2.5 5.  2. ]\n",
            " [5.8 2.8 5.1 2.4]\n",
            " [6.4 3.2 5.3 2.3]\n",
            " [6.5 3.  5.5 1.8]\n",
            " [7.7 3.8 6.7 2.2]\n",
            " [7.7 2.6 6.9 2.3]\n",
            " [6.  2.2 5.  1.5]\n",
            " [6.9 3.2 5.7 2.3]\n",
            " [5.6 2.8 4.9 2. ]\n",
            " [7.7 2.8 6.7 2. ]\n",
            " [6.3 2.7 4.9 1.8]\n",
            " [6.7 3.3 5.7 2.1]\n",
            " [7.2 3.2 6.  1.8]\n",
            " [6.2 2.8 4.8 1.8]\n",
            " [6.1 3.  4.9 1.8]\n",
            " [6.4 2.8 5.6 2.1]\n",
            " [7.2 3.  5.8 1.6]\n",
            " [7.4 2.8 6.1 1.9]\n",
            " [7.9 3.8 6.4 2. ]\n",
            " [6.4 2.8 5.6 2.2]\n",
            " [6.3 2.8 5.1 1.5]\n",
            " [6.1 2.6 5.6 1.4]\n",
            " [7.7 3.  6.1 2.3]\n",
            " [6.3 3.4 5.6 2.4]\n",
            " [6.4 3.1 5.5 1.8]\n",
            " [6.  3.  4.8 1.8]\n",
            " [6.9 3.1 5.4 2.1]\n",
            " [6.7 3.1 5.6 2.4]\n",
            " [6.9 3.1 5.1 2.3]\n",
            " [5.8 2.7 5.1 1.9]\n",
            " [6.8 3.2 5.9 2.3]\n",
            " [6.7 3.3 5.7 2.5]\n",
            " [6.7 3.  5.2 2.3]\n",
            " [6.3 2.5 5.  1.9]\n",
            " [6.5 3.  5.2 2. ]\n",
            " [6.2 3.4 5.4 2.3]\n",
            " [5.9 3.  5.1 1.8]]\n"
          ]
        }
      ],
      "source": [
        "print(arr13)"
      ]
    },
    {
      "cell_type": "code",
      "execution_count": 7,
      "metadata": {
        "id": "LUt5AB_Jud1c",
        "outputId": "cecafcb4-80ad-4a9a-8e92-4c70a278f884",
        "colab": {
          "base_uri": "https://localhost:8080/"
        }
      },
      "outputs": [
        {
          "output_type": "execute_result",
          "data": {
            "text/plain": [
              "numpy.ndarray"
            ]
          },
          "metadata": {},
          "execution_count": 7
        }
      ],
      "source": [
        "type(arr13)"
      ]
    },
    {
      "cell_type": "code",
      "execution_count": 8,
      "metadata": {
        "id": "pQY3Vhfgud1d"
      },
      "outputs": [],
      "source": [
        "# Carregando apenas duas variáveis (colunas) do arquivo\n",
        "var1, var2 = dsa.loadtxt(filename, delimiter = ',', usecols = (0,1), skiprows = 1, unpack = True)"
      ]
    },
    {
      "cell_type": "code",
      "source": [
        "print(var1)"
      ],
      "metadata": {
        "id": "nF_do05iX7Eh",
        "outputId": "d3a419d4-ec2d-4997-b9df-86c52571b59e",
        "colab": {
          "base_uri": "https://localhost:8080/"
        }
      },
      "execution_count": 9,
      "outputs": [
        {
          "output_type": "stream",
          "name": "stdout",
          "text": [
            "[5.1 4.9 4.7 4.6 5.  5.4 4.6 5.  4.4 4.9 5.4 4.8 4.8 4.3 5.8 5.7 5.4 5.1\n",
            " 5.7 5.1 5.4 5.1 4.6 5.1 4.8 5.  5.  5.2 5.2 4.7 4.8 5.4 5.2 5.5 4.9 5.\n",
            " 5.5 4.9 4.4 5.1 5.  4.5 4.4 5.  5.1 4.8 5.1 4.6 5.3 5.  7.  6.4 6.9 5.5\n",
            " 6.5 5.7 6.3 4.9 6.6 5.2 5.  5.9 6.  6.1 5.6 6.7 5.6 5.8 6.2 5.6 5.9 6.1\n",
            " 6.3 6.1 6.4 6.6 6.8 6.7 6.  5.7 5.5 5.5 5.8 6.  5.4 6.  6.7 6.3 5.6 5.5\n",
            " 5.5 6.1 5.8 5.  5.6 5.7 5.7 6.2 5.1 5.7 6.3 5.8 7.1 6.3 6.5 7.6 4.9 7.3\n",
            " 6.7 7.2 6.5 6.4 6.8 5.7 5.8 6.4 6.5 7.7 7.7 6.  6.9 5.6 7.7 6.3 6.7 7.2\n",
            " 6.2 6.1 6.4 7.2 7.4 7.9 6.4 6.3 6.1 7.7 6.3 6.4 6.  6.9 6.7 6.9 5.8 6.8\n",
            " 6.7 6.7 6.3 6.5 6.2 5.9]\n"
          ]
        }
      ]
    },
    {
      "cell_type": "code",
      "execution_count": 14,
      "metadata": {
        "id": "5BIPpuW6ud1e",
        "outputId": "09d6509e-2e99-417f-b3df-6eff90bf3396",
        "colab": {
          "base_uri": "https://localhost:8080/",
          "height": 433
        }
      },
      "outputs": [
        {
          "output_type": "display_data",
          "data": {
            "text/plain": [
              "<Figure size 640x480 with 1 Axes>"
            ],
            "image/png": "[encoded data removed]"
          },
          "metadata": {}
        }
      ],
      "source": [
        "# Gerando um plot a partir de um arquivo usando o NumPy\n",
        "import matplotlib.pyplot as plt\n",
        "plt.show(plt.plot(var1, var2, 'o', markersize = 6, color = 'red'))"
      ]
    },
    {
      "cell_type": "markdown",
      "metadata": {
        "id": "wfzelMMoud1e"
      },
      "source": [
        "### Análise Estatística Básica com NumPy"
      ]
    },
    {
      "cell_type": "code",
      "execution_count": 15,
      "metadata": {
        "id": "e0n9Ekb2ud1e"
      },
      "outputs": [],
      "source": [
        "# Criando um array\n",
        "arr14 = dsa.array([15, 23, 63, 94, 75])"
      ]
    },
    {
      "cell_type": "markdown",
      "metadata": {
        "id": "18Dw7MObud1g"
      },
      "source": [
        "Em Estatística, a média é uma medida de tendência central que representa o valor central de um conjunto de dados. É calculada somando-se todos os valores do conjunto de dados e dividindo-se pelo número de observações."
      ]
    },
    {
      "cell_type": "code",
      "execution_count": 16,
      "metadata": {
        "id": "qKZnTGDoud1h",
        "outputId": "a60eea2d-4413-41f6-974c-edc4f907def5",
        "colab": {
          "base_uri": "https://localhost:8080/"
        }
      },
      "outputs": [
        {
          "output_type": "execute_result",
          "data": {
            "text/plain": [
              "54.0"
            ]
          },
          "metadata": {},
          "execution_count": 16
        }
      ],
      "source": [
        "# Média\n",
        "dsa.mean(arr14)"
      ]
    },
    {
      "cell_type": "markdown",
      "metadata": {
        "id": "8-apni9eud1i"
      },
      "source": [
        "O desvio padrão é uma medida estatística de dispersão que indica o quanto os valores de um conjunto de dados se afastam da média. Ele é calculado como a raiz quadrada da variância, que é a média dos quadrados das diferenças entre cada valor e a média.\n",
        "\n",
        "O desvio padrão é uma medida útil porque permite avaliar a variabilidade dos dados em torno da média. Se os valores estiverem próximos da média, o desvio padrão será baixo, indicando que os dados têm pouca variabilidade. Por outro lado, se os valores estiverem muito distantes da média, o desvio padrão será alto, indicando que os dados têm alta variabilidade.\n",
        "\n",
        "O desvio padrão é amplamente utilizado em Análise e Ciência de Dados, para avaliar a consistência dos dados e comparar conjuntos de dados diferentes. É importante notar que o desvio padrão pode ser influenciado por valores extremos (outliers) e pode ser afetado por diferentes distribuições de dados."
      ]
    },
    {
      "cell_type": "code",
      "execution_count": 17,
      "metadata": {
        "id": "eKnCCXt3ud1i",
        "outputId": "c73184fa-d091-477d-bf7c-d032b895a905",
        "colab": {
          "base_uri": "https://localhost:8080/"
        }
      },
      "outputs": [
        {
          "output_type": "execute_result",
          "data": {
            "text/plain": [
              "30.34468652004828"
            ]
          },
          "metadata": {},
          "execution_count": 17
        }
      ],
      "source": [
        "# Desvio Padrão (Standard Deviation)\n",
        "dsa.std(arr14)"
      ]
    },
    {
      "cell_type": "markdown",
      "metadata": {
        "id": "xR3kLO7aud1i"
      },
      "source": [
        "A variância é uma medida estatística que quantifica a dispersão dos valores em um conjunto de dados em relação à média. Ela é calculada como a média dos quadrados das diferenças entre cada valor e a média.\n",
        "\n",
        "A fórmula para o cálculo da variância é:\n",
        "\n",
        "var = 1/n * Σ(xi - x̄)^2\n",
        "\n",
        "Onde:\n",
        "\n",
        "- var é a variância\n",
        "- n é o número de observações\n",
        "- Σ é o somatório\n",
        "- xi é o i-ésimo valor no conjunto de dados\n",
        "- x̄ é a média dos valores\n",
        "\n",
        "A variância é uma medida útil para avaliar a variabilidade dos dados em torno da média. Se a variância for baixa, isso indica que os valores estão próximos da média e têm pouca variabilidade. Por outro lado, se a variância for alta, isso indica que os valores estão distantes da média e têm alta variabilidade."
      ]
    },
    {
      "cell_type": "code",
      "execution_count": 18,
      "metadata": {
        "id": "N5nPPPI5ud1j",
        "outputId": "b0cdb6a2-ec23-4a40-888a-5cdc943ea7a7",
        "colab": {
          "base_uri": "https://localhost:8080/"
        }
      },
      "outputs": [
        {
          "output_type": "execute_result",
          "data": {
            "text/plain": [
              "920.8"
            ]
          },
          "metadata": {},
          "execution_count": 18
        }
      ],
      "source": [
        "# Variância\n",
        "dsa.var(arr14)"
      ]
    },
    {
      "cell_type": "markdown",
      "metadata": {
        "id": "HtrR9NQpud1j"
      },
      "source": [
        "Leia o manual em pdf no Capítulo 9 sobre quando usar variância e desvio padrão para análise de dados."
      ]
    },
    {
      "cell_type": "markdown",
      "metadata": {
        "id": "OxhvGDKwud1j"
      },
      "source": [
        "### Operações Matemáticas com Arrays NumPy"
      ]
    },
    {
      "cell_type": "code",
      "execution_count": 19,
      "metadata": {
        "id": "nu3Su1Xaud1k"
      },
      "outputs": [],
      "source": [
        "arr15 = dsa.arange(1, 10)"
      ]
    },
    {
      "cell_type": "code",
      "execution_count": 20,
      "metadata": {
        "id": "sKBWc4q4ud1k",
        "outputId": "d7a6516a-fec5-4f78-d943-28566da5b2e7",
        "colab": {
          "base_uri": "https://localhost:8080/"
        }
      },
      "outputs": [
        {
          "output_type": "stream",
          "name": "stdout",
          "text": [
            "[1 2 3 4 5 6 7 8 9]\n"
          ]
        }
      ],
      "source": [
        "print(arr15)"
      ]
    },
    {
      "cell_type": "code",
      "execution_count": 21,
      "metadata": {
        "id": "MeCT5M2Rud1k",
        "outputId": "1f520944-172e-49bd-b79b-cd7fe2794993",
        "colab": {
          "base_uri": "https://localhost:8080/"
        }
      },
      "outputs": [
        {
          "output_type": "execute_result",
          "data": {
            "text/plain": [
              "45"
            ]
          },
          "metadata": {},
          "execution_count": 21
        }
      ],
      "source": [
        "# Soma dos elementos do array\n",
        "dsa.sum(arr15)"
      ]
    },
    {
      "cell_type": "code",
      "execution_count": 22,
      "metadata": {
        "id": "QaJtCPfRud1l",
        "outputId": "e1c4e499-7bbe-485d-bb99-6e404b118f7b",
        "colab": {
          "base_uri": "https://localhost:8080/"
        }
      },
      "outputs": [
        {
          "output_type": "execute_result",
          "data": {
            "text/plain": [
              "362880"
            ]
          },
          "metadata": {},
          "execution_count": 22
        }
      ],
      "source": [
        "# Retorna o produto dos elementos\n",
        "dsa.prod(arr15)"
      ]
    },
    {
      "cell_type": "code",
      "execution_count": 23,
      "metadata": {
        "id": "9cMvhFaaud1l",
        "outputId": "7185c780-68b1-40e6-eb43-df59f7b5b9cb",
        "colab": {
          "base_uri": "https://localhost:8080/"
        }
      },
      "outputs": [
        {
          "output_type": "execute_result",
          "data": {
            "text/plain": [
              "array([ 1,  3,  6, 10, 15, 21, 28, 36, 45])"
            ]
          },
          "metadata": {},
          "execution_count": 23
        }
      ],
      "source": [
        "# Soma acumulada dos elementos\n",
        "dsa.cumsum(arr15)"
      ]
    },
    {
      "cell_type": "code",
      "execution_count": 24,
      "metadata": {
        "id": "ozyckZBzud1l"
      },
      "outputs": [],
      "source": [
        "# Cria 2 arrays\n",
        "arr16 = dsa.array([3, 2, 1])\n",
        "arr17 = dsa.array([1, 2, 3])"
      ]
    },
    {
      "cell_type": "code",
      "execution_count": 25,
      "metadata": {
        "id": "vB-4r_zbud1m"
      },
      "outputs": [],
      "source": [
        "# Soma dos arrays\n",
        "arr18 = dsa.add(arr16, arr17)"
      ]
    },
    {
      "cell_type": "code",
      "execution_count": 26,
      "metadata": {
        "id": "CitEx2z2ud1m",
        "outputId": "eb59094b-e164-4374-a858-7fd3af049aa1",
        "colab": {
          "base_uri": "https://localhost:8080/"
        }
      },
      "outputs": [
        {
          "output_type": "stream",
          "name": "stdout",
          "text": [
            "[4 4 4]\n"
          ]
        }
      ],
      "source": [
        "print(arr18)"
      ]
    },
    {
      "cell_type": "markdown",
      "metadata": {
        "id": "Z0xCV4-Uud1n"
      },
      "source": [
        "Para multiplicar duas matrizes NumPy, podemos usar a função dot() ou o operador @. Ambos os métodos executam a multiplicação matricial. É importante lembrar que, para que a multiplicação de matrizes possa ser executada, o número de colunas da primeira matriz deve ser igual ao número de linhas da segunda matriz.\n",
        "\n",
        "Há várias formas de multiplicar elementos de matrizes NumPy. A função dot() é um método bastante utilizado."
      ]
    },
    {
      "cell_type": "code",
      "execution_count": 45,
      "metadata": {
        "id": "lQrX26Gbud1n"
      },
      "outputs": [],
      "source": [
        "# Cria duas matrizes\n",
        "# Foram inseridos números negativos por mim para fins de teste, ficando diferente da aula\n",
        "arr19 = dsa.array([[1, 2, -1], [3, 4, -2]])\n",
        "arr20 = dsa.array([[5, 6], [0, 7], [-3, -4]])"
      ]
    },
    {
      "cell_type": "code",
      "execution_count": 37,
      "metadata": {
        "id": "jiTqz7Kbud1n",
        "outputId": "6567a307-4c59-4166-9cb1-a002dbe1fc68",
        "colab": {
          "base_uri": "https://localhost:8080/"
        }
      },
      "outputs": [
        {
          "output_type": "execute_result",
          "data": {
            "text/plain": [
              "(2, 3)"
            ]
          },
          "metadata": {},
          "execution_count": 37
        }
      ],
      "source": [
        "arr19.shape"
      ]
    },
    {
      "cell_type": "code",
      "execution_count": 38,
      "metadata": {
        "id": "ltVzMu46ud1o",
        "outputId": "4aecc431-eda6-4b18-a70d-2fc46916accc",
        "colab": {
          "base_uri": "https://localhost:8080/"
        }
      },
      "outputs": [
        {
          "output_type": "execute_result",
          "data": {
            "text/plain": [
              "(3, 2)"
            ]
          },
          "metadata": {},
          "execution_count": 38
        }
      ],
      "source": [
        "arr20.shape"
      ]
    },
    {
      "cell_type": "code",
      "execution_count": 39,
      "metadata": {
        "id": "P6Y5p0yyud1p",
        "outputId": "65d71b37-24ba-4ba8-fb27-4168060d1824",
        "colab": {
          "base_uri": "https://localhost:8080/"
        }
      },
      "outputs": [
        {
          "output_type": "stream",
          "name": "stdout",
          "text": [
            "[[ 1  2 -1]\n",
            " [ 3  4 -2]]\n"
          ]
        }
      ],
      "source": [
        "print(arr19)"
      ]
    },
    {
      "cell_type": "code",
      "execution_count": 40,
      "metadata": {
        "id": "OhYFGu79ud1p",
        "outputId": "0d9d77d3-065c-456f-f11f-968930730441",
        "colab": {
          "base_uri": "https://localhost:8080/"
        }
      },
      "outputs": [
        {
          "output_type": "stream",
          "name": "stdout",
          "text": [
            "[[ 5  6]\n",
            " [ 0  7]\n",
            " [-3 -4]]\n"
          ]
        }
      ],
      "source": [
        "print(arr20)"
      ]
    },
    {
      "cell_type": "code",
      "execution_count": 41,
      "metadata": {
        "id": "gkoiedr8ud1p"
      },
      "outputs": [],
      "source": [
        "# Multiplicar as duas matrizes\n",
        "# O número de colunas da primeira matriz deve ser igual ao número de linhas da segunda matriz.\n",
        "arr21 = dsa.dot(arr19, arr20)"
      ]
    },
    {
      "cell_type": "code",
      "execution_count": 42,
      "metadata": {
        "id": "-b0Ly1mwud1q",
        "outputId": "bfa9caab-dd3b-4bf9-bade-2638eb3c9266",
        "colab": {
          "base_uri": "https://localhost:8080/"
        }
      },
      "outputs": [
        {
          "output_type": "stream",
          "name": "stdout",
          "text": [
            "[[ 8 24]\n",
            " [21 54]]\n"
          ]
        }
      ],
      "source": [
        "print(arr21)"
      ]
    },
    {
      "cell_type": "markdown",
      "metadata": {
        "id": "-9_6LQkOud1q"
      },
      "source": [
        "![DSA](https://github.com/thibastos0/PythonDSA/blob/main/Cap09/Notebooks/imagens/dot.png?raw=1)"
      ]
    },
    {
      "cell_type": "code",
      "execution_count": 43,
      "metadata": {
        "id": "LINR-1h3ud1q"
      },
      "outputs": [],
      "source": [
        "# Multiplicar as duas matrizes\n",
        "arr21 = arr19 @ arr20"
      ]
    },
    {
      "cell_type": "code",
      "execution_count": 44,
      "metadata": {
        "id": "P6Gtwt2zud1r",
        "outputId": "e33d60e0-fe38-4107-a801-299a44b8106e",
        "colab": {
          "base_uri": "https://localhost:8080/"
        }
      },
      "outputs": [
        {
          "output_type": "stream",
          "name": "stdout",
          "text": [
            "[[ 8 24]\n",
            " [21 54]]\n"
          ]
        }
      ],
      "source": [
        "print(arr21)"
      ]
    },
    {
      "cell_type": "code",
      "execution_count": 46,
      "metadata": {
        "id": "k5SGPSeKud1r"
      },
      "outputs": [],
      "source": [
        "# Multiplicar as duas matrizes\n",
        "arr21 = dsa.tensordot(arr19, arr20, axes = ((1),(0)))"
      ]
    },
    {
      "cell_type": "code",
      "execution_count": 47,
      "metadata": {
        "id": "LxuToK3Xud1r",
        "outputId": "9761f428-9f24-49d7-a343-8f2b72b4ab74",
        "colab": {
          "base_uri": "https://localhost:8080/"
        }
      },
      "outputs": [
        {
          "output_type": "stream",
          "name": "stdout",
          "text": [
            "[[ 8 24]\n",
            " [21 54]]\n"
          ]
        }
      ],
      "source": [
        "print(arr21)"
      ]
    },
    {
      "cell_type": "markdown",
      "metadata": {
        "id": "IQ9cWvTMud1s"
      },
      "source": [
        "### Slicing (Fatiamento) de Arrays NumPy"
      ]
    },
    {
      "cell_type": "code",
      "execution_count": 50,
      "metadata": {
        "id": "Qvm8FlZgud1s"
      },
      "outputs": [],
      "source": [
        "# Cria um array\n",
        "arr22 = dsa.diag(dsa.arange(4))"
      ]
    },
    {
      "cell_type": "code",
      "execution_count": 51,
      "metadata": {
        "id": "sLhxUyAgud1s",
        "outputId": "fb7c5a99-26f2-4f6e-c390-3b4dd507f4b9",
        "colab": {
          "base_uri": "https://localhost:8080/"
        }
      },
      "outputs": [
        {
          "output_type": "stream",
          "name": "stdout",
          "text": [
            "[[0 0 0 0]\n",
            " [0 1 0 0]\n",
            " [0 0 2 0]\n",
            " [0 0 0 3]]\n"
          ]
        }
      ],
      "source": [
        "print(arr22)"
      ]
    },
    {
      "cell_type": "code",
      "execution_count": 52,
      "metadata": {
        "id": "HqZXRnGVud1t",
        "outputId": "11742695-d073-4b87-b616-1c490823becf",
        "colab": {
          "base_uri": "https://localhost:8080/"
        }
      },
      "outputs": [
        {
          "output_type": "execute_result",
          "data": {
            "text/plain": [
              "1"
            ]
          },
          "metadata": {},
          "execution_count": 52
        }
      ],
      "source": [
        "arr22[1, 1]"
      ]
    },
    {
      "cell_type": "code",
      "execution_count": 53,
      "metadata": {
        "id": "p-XijKGxud1u",
        "outputId": "a21d6f13-3af7-412b-f3f0-83514403b652",
        "colab": {
          "base_uri": "https://localhost:8080/"
        }
      },
      "outputs": [
        {
          "output_type": "execute_result",
          "data": {
            "text/plain": [
              "array([0, 1, 0, 0])"
            ]
          },
          "metadata": {},
          "execution_count": 53
        }
      ],
      "source": [
        "arr22[1]"
      ]
    },
    {
      "cell_type": "code",
      "execution_count": 55,
      "metadata": {
        "id": "phlNN_psud1u",
        "outputId": "1c2c44a0-6c11-4288-9849-f041cf1672f7",
        "colab": {
          "base_uri": "https://localhost:8080/"
        }
      },
      "outputs": [
        {
          "output_type": "execute_result",
          "data": {
            "text/plain": [
              "array([0, 0, 2, 0])"
            ]
          },
          "metadata": {},
          "execution_count": 55
        }
      ],
      "source": [
        "# ':' = todas as linhas\n",
        "arr22[:,2]"
      ]
    },
    {
      "cell_type": "code",
      "execution_count": 56,
      "metadata": {
        "id": "7JJjuYz5ud1v"
      },
      "outputs": [],
      "source": [
        "arr23 = dsa.arange(10)"
      ]
    },
    {
      "cell_type": "code",
      "execution_count": 57,
      "metadata": {
        "id": "LEjwHuFaud1v",
        "outputId": "f6a89aa5-6687-47f2-c359-dd04fba71d89",
        "colab": {
          "base_uri": "https://localhost:8080/"
        }
      },
      "outputs": [
        {
          "output_type": "stream",
          "name": "stdout",
          "text": [
            "[0 1 2 3 4 5 6 7 8 9]\n"
          ]
        }
      ],
      "source": [
        "print(arr23)"
      ]
    },
    {
      "cell_type": "code",
      "execution_count": 58,
      "metadata": {
        "id": "9fbUR5yBud1w",
        "outputId": "0bab785c-85fe-4da1-c22f-0710a5bb3e24",
        "colab": {
          "base_uri": "https://localhost:8080/"
        }
      },
      "outputs": [
        {
          "output_type": "execute_result",
          "data": {
            "text/plain": [
              "array([2, 5, 8])"
            ]
          },
          "metadata": {},
          "execution_count": 58
        }
      ],
      "source": [
        "# [start:end:step]\n",
        "arr23[2:9:3]"
      ]
    },
    {
      "cell_type": "code",
      "execution_count": 59,
      "metadata": {
        "id": "PMcKa7LBud1w"
      },
      "outputs": [],
      "source": [
        "# Cria 2 arrays\n",
        "a = dsa.array([1, 2, 3, 4])\n",
        "b = dsa.array([4, 2, 2, 4])"
      ]
    },
    {
      "cell_type": "code",
      "execution_count": 60,
      "metadata": {
        "id": "YZIuz27Iud1w",
        "outputId": "7c6adc68-bda0-4e9c-81b2-4e09f99c781c",
        "colab": {
          "base_uri": "https://localhost:8080/"
        }
      },
      "outputs": [
        {
          "output_type": "execute_result",
          "data": {
            "text/plain": [
              "array([False,  True, False,  True])"
            ]
          },
          "metadata": {},
          "execution_count": 60
        }
      ],
      "source": [
        "# Comparação item a item\n",
        "a == b"
      ]
    },
    {
      "cell_type": "code",
      "execution_count": 61,
      "metadata": {
        "id": "JY5zOAkwud1w",
        "outputId": "058cd434-7298-4813-85f4-520e660d8abc",
        "colab": {
          "base_uri": "https://localhost:8080/"
        }
      },
      "outputs": [
        {
          "output_type": "execute_result",
          "data": {
            "text/plain": [
              "False"
            ]
          },
          "metadata": {},
          "execution_count": 61
        }
      ],
      "source": [
        "# Comparação global\n",
        "dsa.array_equal(arr22, arr23)"
      ]
    },
    {
      "cell_type": "code",
      "execution_count": 62,
      "metadata": {
        "id": "RrdGj41Mud1x",
        "outputId": "abe67f02-3457-4a0a-8c67-5f0642ac410b",
        "colab": {
          "base_uri": "https://localhost:8080/"
        }
      },
      "outputs": [
        {
          "output_type": "execute_result",
          "data": {
            "text/plain": [
              "0"
            ]
          },
          "metadata": {},
          "execution_count": 62
        }
      ],
      "source": [
        "arr23.min()"
      ]
    },
    {
      "cell_type": "code",
      "execution_count": 63,
      "metadata": {
        "id": "9gz7_JTaud1x",
        "outputId": "36167eb2-cd60-4aab-b857-b61e479d757e",
        "colab": {
          "base_uri": "https://localhost:8080/"
        }
      },
      "outputs": [
        {
          "output_type": "execute_result",
          "data": {
            "text/plain": [
              "9"
            ]
          },
          "metadata": {},
          "execution_count": 63
        }
      ],
      "source": [
        "arr23.max()"
      ]
    },
    {
      "cell_type": "code",
      "execution_count": 64,
      "metadata": {
        "id": "WeCBVqKzud1y",
        "outputId": "3bf16ec4-6744-4df1-d6af-bbc7a0771a50",
        "colab": {
          "base_uri": "https://localhost:8080/"
        }
      },
      "outputs": [
        {
          "output_type": "execute_result",
          "data": {
            "text/plain": [
              "array([2.5, 3.5, 4.5])"
            ]
          },
          "metadata": {},
          "execution_count": 64
        }
      ],
      "source": [
        "# Somando um valor a cada elemento do array\n",
        "dsa.array([1, 2, 3]) + 1.5"
      ]
    },
    {
      "cell_type": "code",
      "execution_count": 65,
      "metadata": {
        "id": "eXaedHprud1y"
      },
      "outputs": [],
      "source": [
        "# Cria um array\n",
        "arr24 = dsa.array([1.2, 1.5, 1.6, 2.5, 3.5, 4.5])"
      ]
    },
    {
      "cell_type": "code",
      "execution_count": 66,
      "metadata": {
        "id": "lPsaSTi2ud1y",
        "outputId": "8f6bdd77-cc65-4b2a-80b2-9d89bbb4e742",
        "colab": {
          "base_uri": "https://localhost:8080/"
        }
      },
      "outputs": [
        {
          "output_type": "stream",
          "name": "stdout",
          "text": [
            "[1.2 1.5 1.6 2.5 3.5 4.5]\n"
          ]
        }
      ],
      "source": [
        "print(arr24)"
      ]
    },
    {
      "cell_type": "code",
      "execution_count": 72,
      "metadata": {
        "id": "8_6lAc6wud1z"
      },
      "outputs": [],
      "source": [
        "# Usando o método around\n",
        "# banker's rounding - um método para arredondar números para o inteiro par mais próximo\n",
        "# quando eles são equidistantes de dois outros inteiros\n",
        "arr25 = dsa.around(arr24)"
      ]
    },
    {
      "cell_type": "code",
      "execution_count": 73,
      "metadata": {
        "id": "QI4bLZmlud1z",
        "outputId": "48bf0210-dd5a-4f4c-8c25-98f36a6da75d",
        "colab": {
          "base_uri": "https://localhost:8080/"
        }
      },
      "outputs": [
        {
          "output_type": "stream",
          "name": "stdout",
          "text": [
            "[1. 2. 2. 2. 4. 4.]\n"
          ]
        }
      ],
      "source": [
        "print(arr25)"
      ]
    },
    {
      "cell_type": "code",
      "execution_count": 74,
      "metadata": {
        "id": "XVViQXKmud1z"
      },
      "outputs": [],
      "source": [
        "# Criando um array\n",
        "arr26 = dsa.array([[1, 2, 3, 4], [5, 6, 7, 8]])"
      ]
    },
    {
      "cell_type": "code",
      "execution_count": 75,
      "metadata": {
        "id": "YBHN0n9Jud10",
        "outputId": "425f4025-bc56-4a20-9baf-8c7eda4d1e01",
        "colab": {
          "base_uri": "https://localhost:8080/"
        }
      },
      "outputs": [
        {
          "output_type": "stream",
          "name": "stdout",
          "text": [
            "[[1 2 3 4]\n",
            " [5 6 7 8]]\n"
          ]
        }
      ],
      "source": [
        "print(arr26)"
      ]
    },
    {
      "cell_type": "markdown",
      "metadata": {
        "id": "EYj9OWgeud10"
      },
      "source": [
        "O método flatten() com NumPy é usado para criar uma cópia unidimensional (ou \"achatada\") de um array multidimensional. Isso significa que o método cria um novo array unidimensional, que contém todos os elementos do array multidimensional original, mas que está organizado em uma única linha. A ordem dos elementos no novo array unidimensional segue a ordem dos elementos no array multidimensional original."
      ]
    },
    {
      "cell_type": "code",
      "execution_count": 76,
      "metadata": {
        "id": "OyVFIglmud10"
      },
      "outputs": [],
      "source": [
        "# \"Achatando\" a matriz\n",
        "arr27 = arr26.flatten()"
      ]
    },
    {
      "cell_type": "code",
      "execution_count": 77,
      "metadata": {
        "id": "O0QB0S1rud10",
        "outputId": "d9f1e85b-31b4-49c3-b04a-666e63147871",
        "colab": {
          "base_uri": "https://localhost:8080/"
        }
      },
      "outputs": [
        {
          "output_type": "stream",
          "name": "stdout",
          "text": [
            "[1 2 3 4 5 6 7 8]\n"
          ]
        }
      ],
      "source": [
        "print(arr27)"
      ]
    },
    {
      "cell_type": "code",
      "execution_count": 78,
      "metadata": {
        "id": "7yPz6NBHud11"
      },
      "outputs": [],
      "source": [
        "# Criando um array\n",
        "arr28 = dsa.array([1, 2, 3])"
      ]
    },
    {
      "cell_type": "code",
      "execution_count": 79,
      "metadata": {
        "id": "9NbKqBDLud11",
        "outputId": "92092f58-f4d8-44c3-d8c8-edd33c608e9e",
        "colab": {
          "base_uri": "https://localhost:8080/"
        }
      },
      "outputs": [
        {
          "output_type": "stream",
          "name": "stdout",
          "text": [
            "[1 2 3]\n"
          ]
        }
      ],
      "source": [
        "print(arr28)"
      ]
    },
    {
      "cell_type": "code",
      "execution_count": 80,
      "metadata": {
        "id": "F-OKAzseud11",
        "outputId": "ab42f96e-1921-46cd-da1b-d0241d9e3b24",
        "colab": {
          "base_uri": "https://localhost:8080/"
        }
      },
      "outputs": [
        {
          "output_type": "execute_result",
          "data": {
            "text/plain": [
              "array([1, 1, 1, 2, 2, 2, 3, 3, 3])"
            ]
          },
          "metadata": {},
          "execution_count": 80
        }
      ],
      "source": [
        "# Repetindo os elementos de um array\n",
        "dsa.repeat(arr28, 3)"
      ]
    },
    {
      "cell_type": "code",
      "execution_count": 81,
      "metadata": {
        "id": "6hFywPrzud12",
        "outputId": "dcc2fe6d-7372-4469-da14-c7085798f6e0",
        "colab": {
          "base_uri": "https://localhost:8080/"
        }
      },
      "outputs": [
        {
          "output_type": "execute_result",
          "data": {
            "text/plain": [
              "array([1, 2, 3, 1, 2, 3, 1, 2, 3])"
            ]
          },
          "metadata": {},
          "execution_count": 81
        }
      ],
      "source": [
        "# Repetindo os elementos de um array\n",
        "dsa.tile(arr28, 3)"
      ]
    },
    {
      "cell_type": "code",
      "execution_count": 82,
      "metadata": {
        "id": "-f_lh6VBud12"
      },
      "outputs": [],
      "source": [
        "# Criando um array\n",
        "arr29 = dsa.array([5, 6])"
      ]
    },
    {
      "cell_type": "code",
      "source": [
        "print(arr29)"
      ],
      "metadata": {
        "id": "XteJpjgREpNr",
        "outputId": "de7d34fa-043d-4e4e-d1e9-7de9a18e0ca3",
        "colab": {
          "base_uri": "https://localhost:8080/"
        }
      },
      "execution_count": 83,
      "outputs": [
        {
          "output_type": "stream",
          "name": "stdout",
          "text": [
            "[5 6]\n"
          ]
        }
      ]
    },
    {
      "cell_type": "code",
      "execution_count": 84,
      "metadata": {
        "id": "eYp1BQETud12"
      },
      "outputs": [],
      "source": [
        "# Criando cópia do array\n",
        "arr30 = dsa.copy(arr29)"
      ]
    },
    {
      "cell_type": "code",
      "execution_count": 85,
      "metadata": {
        "id": "WcN_iOc0ud13",
        "outputId": "424748f5-579d-47d6-f1c2-50c5c9869a62",
        "colab": {
          "base_uri": "https://localhost:8080/"
        }
      },
      "outputs": [
        {
          "output_type": "stream",
          "name": "stdout",
          "text": [
            "[5 6]\n"
          ]
        }
      ],
      "source": [
        "print(arr30)"
      ]
    },
    {
      "cell_type": "markdown",
      "metadata": {
        "id": "J6-vsK7tud13"
      },
      "source": [
        "O NumPy é estudado em detalhes em diversos cursos e Formações aqui na DSA, através de exercícios, laboratórios, estudos de caso, mini-projetos e projetos."
      ]
    },
    {
      "cell_type": "markdown",
      "metadata": {
        "id": "lNh8rlNLud13"
      },
      "source": [
        "# Fim"
      ]
    },
    {
      "cell_type": "markdown",
      "metadata": {
        "id": "8iCqGy3Tud14"
      },
      "source": [
        "\n",
        "### Obrigado\n",
        "\n",
        "### Visite o Blog da Data Science Academy - <a href=\"http://blog.dsacademy.com.br\">Blog DSA</a>\n"
      ]
    }
  ],
  "metadata": {
    "kernelspec": {
      "display_name": "Python 3 (ipykernel)",
      "language": "python",
      "name": "python3"
    },
    "language_info": {
      "codemirror_mode": {
        "name": "ipython",
        "version": 3
      },
      "file_extension": ".py",
      "mimetype": "text/x-python",
      "name": "python",
      "nbconvert_exporter": "python",
      "pygments_lexer": "ipython3",
      "version": "3.9.13"
    },
    "colab": {
      "provenance": []
    }
  },
  "nbformat": 4,
  "nbformat_minor": 0
}