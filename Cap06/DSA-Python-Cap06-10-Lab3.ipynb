{
  "cells": [
    {
      "cell_type": "markdown",
      "metadata": {
        "id": "WMqyNPYakP1h"
      },
      "source": [
        "# <font color='blue'>Data Science Academy</font>\n",
        "\n",
        "## <font color='blue'>Fundamentos de Linguagem Python Para Análise de Dados e Data Science</font>\n",
        "\n",
        "## <font color='blue'>Lab 3 - Trabalhando com Expressões Regulares em Python com ChatGPT</font>"
      ]
    },
    {
      "cell_type": "markdown",
      "metadata": {
        "id": "htBlU6lHkP1j"
      },
      "source": [
        "![DSA](https://github.com/thibastos0/PythonDSA/blob/main/Cap06/imagens/Lab3.png?raw=1)"
      ]
    },
    {
      "cell_type": "code",
      "execution_count": null,
      "metadata": {
        "id": "VmR-vhPakP1j",
        "outputId": "285dcb1f-67fd-4817-b150-0fe9e05f5e57"
      },
      "outputs": [
        {
          "name": "stdout",
          "output_type": "stream",
          "text": [
            "Versão da Linguagem Python Usada Neste Jupyter Notebook: 3.9.13\n"
          ]
        }
      ],
      "source": [
        "# Versão da Linguagem Python\n",
        "from platform import python_version\n",
        "print('Versão da Linguagem Python Usada Neste Jupyter Notebook:', python_version())"
      ]
    },
    {
      "cell_type": "markdown",
      "metadata": {
        "id": "y6QejEXfkP1l"
      },
      "source": [
        "## Expressões Regulares\n",
        "\n",
        "Expressões regulares são padrões usados para combinar ou encontrar ocorrências de sequências de caracteres em uma string. Em Python, expressões regulares são geralmente usadas para manipular strings e realizar tarefas como validação de entrada de dados, extração de informações de strings e substituição de texto."
      ]
    },
    {
      "cell_type": "code",
      "execution_count": 1,
      "metadata": {
        "id": "98FADakGkP1l"
      },
      "outputs": [],
      "source": [
        "import re"
      ]
    },
    {
      "cell_type": "code",
      "execution_count": null,
      "metadata": {
        "id": "37tkbiSzkP1l"
      },
      "outputs": [],
      "source": [
        "texto = \"Meu e-mail é exemplo@gmail.com e você pode me contatar em outro_email@yahoo.com.\""
      ]
    },
    {
      "cell_type": "code",
      "execution_count": null,
      "metadata": {
        "id": "Q6Eh6U7AkP1m"
      },
      "outputs": [],
      "source": [
        "# Expressão regular para contar quantas vezes o caracter arroba aparece no texto\n",
        "resultado = len(re.findall(\"@\", texto))"
      ]
    },
    {
      "cell_type": "code",
      "execution_count": null,
      "metadata": {
        "id": "zLmpMvJxkP1m",
        "outputId": "5d8fb059-a370-42cc-d6d6-f63b83ae5f83"
      },
      "outputs": [
        {
          "name": "stdout",
          "output_type": "stream",
          "text": [
            "O caractere '@' apareceu 2 vezes no texto.\n"
          ]
        }
      ],
      "source": [
        "print(\"O caractere '@' apareceu\", resultado, \"vezes no texto.\")"
      ]
    },
    {
      "cell_type": "code",
      "execution_count": null,
      "metadata": {
        "id": "31nzv7-IkP1n"
      },
      "outputs": [],
      "source": [
        "# Expressão regular para extrair a palavra que aparece após a palavra \"você\" em um texto\n",
        "resultado = re.findall(r'você (\\w+)', texto)"
      ]
    },
    {
      "cell_type": "code",
      "execution_count": null,
      "metadata": {
        "id": "v7b6nUiVkP1n",
        "outputId": "59b4cdb5-24e7-451b-c51d-539a05ed962c"
      },
      "outputs": [
        {
          "name": "stdout",
          "output_type": "stream",
          "text": [
            "A palavra após 'você' é: pode\n"
          ]
        }
      ],
      "source": [
        "print(\"A palavra após 'você' é:\", resultado[0])"
      ]
    },
    {
      "cell_type": "markdown",
      "metadata": {
        "id": "fl6iNj9ykP1o"
      },
      "source": [
        "Nota: O r antes da string que representa a expressão regular em Python é usado para indicar que a string é uma string literal raw. Isso significa que as barras invertidas (\\) não são interpretadas como caracteres de escape, mas são incluídas na expressão regular como parte do padrão."
      ]
    },
    {
      "cell_type": "code",
      "execution_count": null,
      "metadata": {
        "id": "Os2bKahgkP1p"
      },
      "outputs": [],
      "source": [
        "# Expressão regular para extrair endereços de e-mail de uma string\n",
        "emails = re.findall(r'\\b[A-Za-z0-9._%+-]+@[A-Za-z0-9.-]+\\.[A-Z|a-z]{2,}\\b', texto)"
      ]
    },
    {
      "cell_type": "code",
      "execution_count": null,
      "metadata": {
        "id": "UfVR8NynkP1p",
        "outputId": "ad355866-4313-474b-96ed-85b2227b2b46"
      },
      "outputs": [
        {
          "name": "stdout",
          "output_type": "stream",
          "text": [
            "['exemplo@gmail.com', 'outro_email@yahoo.com']\n"
          ]
        }
      ],
      "source": [
        "print(emails)"
      ]
    },
    {
      "cell_type": "markdown",
      "metadata": {
        "id": "ZRyjkGnWkP1q"
      },
      "source": [
        "Visite sua amiga, a documentação:\n",
        "    \n",
        "https://docs.python.org/3.9/library/re.html"
      ]
    },
    {
      "cell_type": "code",
      "execution_count": null,
      "metadata": {
        "id": "2ECnvvHckP1q"
      },
      "outputs": [],
      "source": [
        "text = \"O aluno estava incrivelmente perdido, mas encontrou a DSA e rapidamente começou a aprender.\""
      ]
    },
    {
      "cell_type": "code",
      "execution_count": null,
      "metadata": {
        "id": "fk1eAMgrkP1r",
        "outputId": "bdd4af20-00b4-4ebc-a99a-6401ce3a6826"
      },
      "outputs": [
        {
          "name": "stdout",
          "output_type": "stream",
          "text": [
            "15-28: incrivelmente\n",
            "60-71: rapidamente\n"
          ]
        }
      ],
      "source": [
        "# Extraindo os advérbios da frase\n",
        "for m in re.finditer(r\"\\w+mente\\b\", text):\n",
        "    print('%02d-%02d: %s' % (m.start(), m.end(), m.group(0)))"
      ]
    },
    {
      "cell_type": "markdown",
      "metadata": {
        "id": "6jGATW00kP1r"
      },
      "source": [
        "## REGEX com ChatGPT\n",
        "\n",
        "Música: Tempo Perdido\n",
        "\n",
        "Legião Urbana"
      ]
    },
    {
      "cell_type": "code",
      "execution_count": 2,
      "metadata": {
        "id": "E86MVGmNkP1r"
      },
      "outputs": [],
      "source": [
        "# Variável do tipo string\n",
        "musica = '''\n",
        "Todos os dias quando acordo\n",
        "Não tenho mais\n",
        "O tempo que passou\n",
        "Mas tenho muito tempo\n",
        "Temos todo o tempo do mundo\n",
        "Todos os dias\n",
        "Antes de dormir\n",
        "Lembro e esqueço\n",
        "Como foi o dia\n",
        "Sempre em frente\n",
        "Não temos tempo a perder\n",
        "Nosso suor sagrado\n",
        "É bem mais belo\n",
        "Que esse sangue amargo\n",
        "E tão sério\n",
        "E selvagem! Selvagem!\n",
        "Selvagem!\n",
        "Veja o sol\n",
        "Dessa manhã tão cinza\n",
        "A tempestade que chega\n",
        "É da cor dos teus olhos\n",
        "Castanhos\n",
        "Então me abraça forte\n",
        "E diz mais uma vez\n",
        "Que já estamos\n",
        "Distantes de tudo\n",
        "Temos nosso próprio tempo\n",
        "Temos nosso próprio tempo\n",
        "Temos nosso próprio tempo\n",
        "Não tenho medo do escuro\n",
        "Mas deixe as luzes\n",
        "Acesas agora\n",
        "O que foi escondido\n",
        "É o que se escondeu\n",
        "E o que foi prometido\n",
        "Ninguém prometeu\n",
        "Nem foi tempo perdido\n",
        "Somos tão jovens\n",
        "Tão jovens! Tão jovens!\n",
        "'''"
      ]
    },
    {
      "cell_type": "code",
      "execution_count": null,
      "metadata": {
        "id": "tYQWsnBgkP1s",
        "outputId": "9fd2e132-3689-4cdf-b348-7a6cf396d0cf"
      },
      "outputs": [
        {
          "name": "stdout",
          "output_type": "stream",
          "text": [
            "\n",
            "Todos os dias quando acordo\n",
            "Não tenho mais\n",
            "O tempo que passou\n",
            "Mas tenho muito tempo\n",
            "Temos todo o tempo do mundo\n",
            "Todos os dias\n",
            "Antes de dormir\n",
            "Lembro e esqueço\n",
            "Como foi o dia\n",
            "Sempre em frente\n",
            "Não temos tempo a perder\n",
            "Nosso suor sagrado\n",
            "É bem mais belo\n",
            "Que esse sangue amargo\n",
            "E tão sério\n",
            "E selvagem! Selvagem!\n",
            "Selvagem!\n",
            "Veja o sol\n",
            "Dessa manhã tão cinza\n",
            "A tempestade que chega\n",
            "É da cor dos teus olhos\n",
            "Castanhos\n",
            "Então me abraça forte\n",
            "E diz mais uma vez\n",
            "Que já estamos\n",
            "Distantes de tudo\n",
            "Temos nosso próprio tempo\n",
            "Temos nosso próprio tempo\n",
            "Temos nosso próprio tempo\n",
            "Não tenho medo do escuro\n",
            "Mas deixe as luzes\n",
            "Acesas agora\n",
            "O que foi escondido\n",
            "É o que se escondeu\n",
            "E o que foi prometido\n",
            "Ninguém prometeu\n",
            "Nem foi tempo perdido\n",
            "Somos tão jovens\n",
            "Tão jovens! Tão jovens!\n",
            "\n"
          ]
        }
      ],
      "source": [
        "print(musica)"
      ]
    },
    {
      "cell_type": "code",
      "execution_count": null,
      "metadata": {
        "id": "2AVSrG7dkP1s"
      },
      "outputs": [],
      "source": [
        "# 1- Crie um REGEX para contar quantas vezes o caracter \"a\" aparece em todo o texto da música.\n",
        "# 2- Crie um REGEX em Python para contar quantas vezes a palavra tempo aparece na música.\n",
        "# 3- Crie um REGEX em Python para extrair as palavras seguidas por exclamação.\n",
        "# 4- Crie um REGEX que extrai qualquer palavra cujo antecessor seja a palavra \"esse\" e o sucessor seja a palavra \"amargo\" em um texto.\n",
        "# 5- Crie um REGEX que retorne as palavras com acento, mas somente os caracteres na palavra que são anteriores ao caracter com acento.\n"
      ]
    },
    {
      "cell_type": "markdown",
      "metadata": {
        "id": "JoX2rK6HkP1s"
      },
      "source": [
        "> Aqui está a solução."
      ]
    },
    {
      "cell_type": "code",
      "execution_count": null,
      "metadata": {
        "id": "9_woXiCtkP1t",
        "outputId": "3c0b5aed-e94b-427b-e854-531bdcc6c406"
      },
      "outputs": [
        {
          "name": "stdout",
          "output_type": "stream",
          "text": [
            "O caractere 'a' aparece 39 vezes no texto.\n"
          ]
        }
      ],
      "source": [
        "# 1- Crie um REGEX para contar quantas vezes o caracter \"a\" aparece em todo o texto da música.\n",
        "match = re.findall(\"a\", musica)\n",
        "count = len(match)\n",
        "print(\"O caractere 'a' aparece\", count, \"vezes no texto.\")"
      ]
    },
    {
      "cell_type": "code",
      "execution_count": null,
      "metadata": {
        "id": "3zAxpizJkP1t",
        "outputId": "02d29468-d90a-4e22-999e-23b8dc493a6a"
      },
      "outputs": [
        {
          "name": "stdout",
          "output_type": "stream",
          "text": [
            "O caractere 'a' apareceu 39 vezes na música.\n"
          ]
        }
      ],
      "source": [
        "# 1- Crie um REGEX para contar quantas vezes o caracter \"a\" aparece em todo o texto da música.\n",
        "resultado1 = len(re.findall(\"a\", musica))\n",
        "print(\"O caractere 'a' apareceu\", resultado1, \"vezes na música.\")"
      ]
    },
    {
      "cell_type": "code",
      "execution_count": null,
      "metadata": {
        "id": "6Z_Z-lCYkP1u",
        "outputId": "77f96570-9bbb-48d8-fef1-e3d4f282a1d9"
      },
      "outputs": [
        {
          "name": "stdout",
          "output_type": "stream",
          "text": [
            "A palavra 'tempo' aparece 8 vezes no texto.\n"
          ]
        }
      ],
      "source": [
        "# 2- Crie um REGEX em Python para contar quantas vezes a palavra tempo aparece na música.\n",
        "match = re.findall(r\"\\btempo\\b\", musica)\n",
        "count = len(match)\n",
        "print(\"A palavra 'tempo' aparece\", count, \"vezes no texto.\")"
      ]
    },
    {
      "cell_type": "code",
      "execution_count": null,
      "metadata": {
        "id": "C_znfOZukP1u",
        "outputId": "f38681e1-49c6-4d86-8758-ecdd6b0ea563"
      },
      "outputs": [
        {
          "name": "stdout",
          "output_type": "stream",
          "text": [
            "A palavra 'tempo' apareceu 8 vezes na música.\n"
          ]
        }
      ],
      "source": [
        "# 2- Crie um REGEX em Python para contar quantas vezes a palavra tempo aparece na música.\n",
        "resultado2 = len(re.findall(\"tempo\", musica))\n",
        "print(\"A palavra 'tempo' apareceu\", resultado2, \"vezes na música.\")"
      ]
    },
    {
      "cell_type": "code",
      "execution_count": null,
      "metadata": {
        "id": "O1ZH_ZtzkP1u",
        "outputId": "49ba720e-e4f5-4916-b6d4-bfaa51df24ef"
      },
      "outputs": [
        {
          "name": "stdout",
          "output_type": "stream",
          "text": [
            "As palavras seguidas por exclamação são: []\n"
          ]
        }
      ],
      "source": [
        "# 3- Crie um REGEX em Python para extrair as palavras seguidas por exclamação.\n",
        "match = re.findall(r\"\\b\\w+!\\b\", musica)\n",
        "print(\"As palavras seguidas por exclamação são:\", match)"
      ]
    },
    {
      "cell_type": "code",
      "execution_count": null,
      "metadata": {
        "id": "0IfRGIAJkP1v",
        "outputId": "3d0c21f2-d0e6-485c-ea04-9e52974a2fa5"
      },
      "outputs": [
        {
          "name": "stdout",
          "output_type": "stream",
          "text": [
            "Estas são as palavras seguidas por exclamação: ['selvagem!', 'Selvagem!', 'Selvagem!', 'jovens!', 'jovens!']\n"
          ]
        }
      ],
      "source": [
        "# 3- Crie um REGEX em Python para extrair as palavras seguidas por exclamação.\n",
        "resultado3 = re.findall(r'\\b\\w+!', musica)\n",
        "print(\"Estas são as palavras seguidas por exclamação:\", resultado3)"
      ]
    },
    {
      "cell_type": "code",
      "execution_count": 3,
      "metadata": {
        "colab": {
          "base_uri": "https://localhost:8080/"
        },
        "id": "dA-u8_OwkP1v",
        "outputId": "b232cade-d50f-4830-f1d5-1eac95a81217"
      },
      "outputs": [
        {
          "output_type": "stream",
          "name": "stdout",
          "text": [
            "Palavras entre 'esse' e 'amargo': ['sangue']\n"
          ]
        }
      ],
      "source": [
        "# 4- Crie um REGEX que extrai qualquer palavra cujo antecessor seja a palavra \"esse\" e\n",
        "# o sucessor seja a palavra \"amargo\" em um texto.\n",
        "resultado = re.findall(r\"esse\\s(\\w+)\\samargo\", musica)\n",
        "print(\"Palavras entre 'esse' e 'amargo':\", resultado)"
      ]
    },
    {
      "cell_type": "code",
      "execution_count": null,
      "metadata": {
        "id": "Lwo9A5PxkP1w",
        "outputId": "4072d201-a94c-4a38-ab7a-b54f66875049"
      },
      "outputs": [
        {
          "name": "stdout",
          "output_type": "stream",
          "text": [
            "Palavra(s) encontrada(s): ['sangue']\n"
          ]
        }
      ],
      "source": [
        "# 4- Crie um REGEX que extrai qualquer palavra cujo antecessor seja a palavra \"esse\" e\n",
        "# o sucessor seja a palavra \"amargo\" em um texto.\n",
        "resultado4 = re.findall(r'\\besse\\s(\\w+)\\samargo\\b', musica)\n",
        "print(\"Palavra(s) encontrada(s):\", resultado4)"
      ]
    },
    {
      "cell_type": "code",
      "execution_count": null,
      "metadata": {
        "id": "f6NJBXb-kP1w",
        "outputId": "77ec0a2a-c072-4f44-9d72-103d810840d5"
      },
      "outputs": [
        {
          "name": "stdout",
          "output_type": "stream",
          "text": [
            "Partes das palavras com acentos: []\n"
          ]
        }
      ],
      "source": [
        "# 5- Crie um REGEX que retorne as palavras com acento, mas somente os caracteres na palavra que\n",
        "# são anteriores ao caracter com acento.\n",
        "resultado = re.findall(r\"(\\w+)\\b[áéíóú]\", musica)\n",
        "print(\"Partes das palavras com acentos:\", resultado)"
      ]
    },
    {
      "cell_type": "code",
      "execution_count": null,
      "metadata": {
        "id": "oMtWyYVxkP1x",
        "outputId": "6d90a6dd-a956-4650-f510-21d85ee68ce0"
      },
      "outputs": [
        {
          "name": "stdout",
          "output_type": "stream",
          "text": [
            "Palavras com acento, sem o acento: ['N', 'esque', 'N', 't', 's', 'manh', 't', 'Ent', 'abra', 'j', 'pr', 'pr', 'pr', 'N', 'Ningu', 't', 'T', 'T']\n"
          ]
        }
      ],
      "source": [
        "# 5- Crie um REGEX que retorne as palavras com acento, mas somente os caracteres na palavra que\n",
        "# são anteriores ao caracter com acento.\n",
        "resultado = re.findall(r\"(\\w+)[\\u00C0-\\u017F]+\", musica)\n",
        "print(\"Palavras com acento, sem o acento:\", resultado)"
      ]
    },
    {
      "cell_type": "code",
      "execution_count": 5,
      "metadata": {
        "colab": {
          "base_uri": "https://localhost:8080/"
        },
        "id": "uelSmOxYkP1x",
        "outputId": "9cd579a5-5e15-4b88-f815-e67d7b22603d"
      },
      "outputs": [
        {
          "output_type": "stream",
          "name": "stdout",
          "text": [
            "As palavras acentuadas são: ['Nã', 'esqueç', 'Nã', 'tã', 'sé', 'manhã', 'tã', 'Entã', 'abraç', 'já', 'pró', 'pró', 'pró', 'Nã', 'Ningué', 'tã', 'Tã', 'Tã']\n"
          ]
        }
      ],
      "source": [
        "# 5- Crie um REGEX que retorne as palavras com acento, mas somente os caracteres na palavra que\n",
        "# são anteriores ao caracter com acento.\n",
        "resultado5 = re.findall(r'\\b[\\wÀ-ÿ]+[áéíóúãõç]', musica)\n",
        "print(\"As palavras acentuadas são:\", resultado5)"
      ]
    },
    {
      "cell_type": "code",
      "source": [
        "# 5- Crie um REGEX que retorne as palavras com acento, mas somente os caracteres na palavra que\n",
        "# são anteriores ao caracter com acento.\n",
        "resultado = re.findall(r\"(\\w+)+[áéíóúãõç]\", musica)\n",
        "print(\"Partes das palavras com acentos:\", resultado)"
      ],
      "metadata": {
        "colab": {
          "base_uri": "https://localhost:8080/"
        },
        "id": "w0yLGTI7nHvf",
        "outputId": "9ddae62d-4132-44f1-f4d4-b62155ef1171"
      },
      "execution_count": 8,
      "outputs": [
        {
          "output_type": "stream",
          "name": "stdout",
          "text": [
            "Partes das palavras com acentos: ['N', 'esque', 'N', 't', 's', 'manh', 't', 'Ent', 'abra', 'j', 'pr', 'pr', 'pr', 'N', 'Ningu', 't', 'T', 'T']\n"
          ]
        }
      ]
    },
    {
      "cell_type": "markdown",
      "metadata": {
        "id": "89N7LRPwkP1y"
      },
      "source": [
        "# Fim"
      ]
    },
    {
      "cell_type": "markdown",
      "metadata": {
        "id": "Hp2sU3CokP1y"
      },
      "source": [
        "### Obrigado\n",
        "\n",
        "### Visite o Blog da Data Science Academy - <a href=\"http://blog.dsacademy.com.br\">Blog DSA</a>"
      ]
    }
  ],
  "metadata": {
    "kernelspec": {
      "display_name": "Python 3 (ipykernel)",
      "language": "python",
      "name": "python3"
    },
    "language_info": {
      "codemirror_mode": {
        "name": "ipython",
        "version": 3
      },
      "file_extension": ".py",
      "mimetype": "text/x-python",
      "name": "python",
      "nbconvert_exporter": "python",
      "pygments_lexer": "ipython3",
      "version": "3.9.13"
    },
    "colab": {
      "provenance": []
    }
  },
  "nbformat": 4,
  "nbformat_minor": 0
}