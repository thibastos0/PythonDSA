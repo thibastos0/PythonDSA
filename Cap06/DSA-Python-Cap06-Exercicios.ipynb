{
  "cells": [
    {
      "cell_type": "markdown",
      "metadata": {
        "id": "o7zXJrQe_XYG"
      },
      "source": [
        "# <font color='blue'>Data Science Academy</font>\n",
        "\n",
        "## <font color='blue'>Fundamentos de Linguagem Python Para Análise de Dados e Data Science</font>\n",
        "\n",
        "## <font color='blue'>Capítulo 6 - Exercícios</font>"
      ]
    },
    {
      "cell_type": "code",
      "execution_count": null,
      "metadata": {
        "id": "VKH3LrEL_XYP"
      },
      "outputs": [],
      "source": [
        "# Versão da Linguagem Python\n",
        "from platform import python_version\n",
        "print('Versão da Linguagem Python Usada Neste Jupyter Notebook:', python_version())"
      ]
    },
    {
      "cell_type": "markdown",
      "metadata": {
        "id": "dlg6LYdU_XYS"
      },
      "source": [
        "## Exercícios"
      ]
    },
    {
      "cell_type": "code",
      "execution_count": 1,
      "metadata": {
        "colab": {
          "base_uri": "https://localhost:8080/"
        },
        "id": "xrgbN4r__XYT",
        "outputId": "9471200a-89a3-4e7c-b6c8-6cd17b0b3fd5"
      },
      "outputs": [
        {
          "output_type": "stream",
          "name": "stdout",
          "text": [
            "[27, 64, 125]\n"
          ]
        }
      ],
      "source": [
        "# Exercício 1 - Crie uma lista de 3 elementos e calcule a terceira potência de cada elemento.\n",
        "lista = [3, 4, 5]\n",
        "# potencia = [item**3 for item in lista]\n",
        "potencia = list(map(lambda x: x**3, lista))\n",
        "print(potencia)"
      ]
    },
    {
      "cell_type": "code",
      "source": [
        "# Exercício extra 01 - Chá de bebê - Função zip para análise de pares correspondentes (chave: valor)\n",
        "sexo = ['masculino', 'feminino']\n",
        "cores = ['azul', 'rosa']\n",
        "for s, c in zip(sexo, cores):\n",
        "    bebe = 'meninos' if s == 'masculino' else 'meninas'\n",
        "    print(f\"Bebês {bebe} são balões da cor {c}\", end='; ')"
      ],
      "metadata": {
        "colab": {
          "base_uri": "https://localhost:8080/"
        },
        "id": "OEauUWcxYIAb",
        "outputId": "f8fb0e12-4451-4a23-9895-80c7460505c1"
      },
      "execution_count": 13,
      "outputs": [
        {
          "output_type": "stream",
          "name": "stdout",
          "text": [
            "Bebês meninos são balões da cor azul; Bebês meninas são balões da cor rosa; "
          ]
        }
      ]
    },
    {
      "cell_type": "code",
      "source": [
        "# Exercício extra 02 - usando \\r\n",
        "import time\n",
        "print('Contagem regressiva iniciada em:')\n",
        "for i in range(10):\n",
        "    print(10 - i, end='\\r')\n",
        "    time.sleep(1)"
      ],
      "metadata": {
        "colab": {
          "base_uri": "https://localhost:8080/"
        },
        "id": "5gdZXchSbPlB",
        "outputId": "d65ff70d-d770-4200-ba5a-fc89ca87a6a7"
      },
      "execution_count": 10,
      "outputs": [
        {
          "output_type": "stream",
          "name": "stdout",
          "text": [
            "Contagem regressiva iniciada em:\n"
          ]
        }
      ]
    },
    {
      "cell_type": "code",
      "execution_count": 11,
      "metadata": {
        "colab": {
          "base_uri": "https://localhost:8080/"
        },
        "id": "XaMRiCrd_XYU",
        "outputId": "39845b35-c3e5-400a-e583-a897180317c3"
      },
      "outputs": [
        {
          "output_type": "stream",
          "name": "stdout",
          "text": [
            "['A', 'a', 1]\n",
            "['DATA', 'data', 4]\n",
            "['SCIENCE', 'science', 7]\n",
            "['ACADEMY', 'academy', 7]\n",
            "['OFERCE', 'oferce', 6]\n",
            "['OS', 'os', 2]\n",
            "['MELHORES', 'melhores', 8]\n",
            "['CURSOS', 'cursos', 6]\n",
            "['DE', 'de', 2]\n",
            "['ANÁLISE', 'análise', 7]\n",
            "['DE', 'de', 2]\n",
            "['DADOS', 'dados', 5]\n",
            "['DO', 'do', 2]\n",
            "['BRASIL.', 'brasil.', 7]\n"
          ]
        }
      ],
      "source": [
        "# Exercício 2 - Reescreva o código abaixo, usando a função map(). O resultado final deve ser o mesmo!\n",
        "palavras = 'A Data Science Academy oferce os melhores cursos de análise de dados do Brasil.'.split()\n",
        "resultado = [[w.upper(), w.lower(), len(w)] for w in palavras]\n",
        "for i in resultado:\n",
        "    print (i)"
      ]
    },
    {
      "cell_type": "code",
      "execution_count": 37,
      "metadata": {
        "colab": {
          "base_uri": "https://localhost:8080/"
        },
        "id": "703OU5JS_XYU",
        "outputId": "ef76492a-138e-4597-fd6b-cc229f3c1e57"
      },
      "outputs": [
        {
          "output_type": "stream",
          "name": "stdout",
          "text": [
            "['A', 'a', 1]\n",
            "['DATA', 'data', 4]\n",
            "['SCIENCE', 'science', 7]\n",
            "['ACADEMY', 'academy', 7]\n",
            "['OFERCE', 'oferce', 6]\n",
            "['OS', 'os', 2]\n",
            "['MELHORES', 'melhores', 8]\n",
            "['CURSOS', 'cursos', 6]\n",
            "['DE', 'de', 2]\n",
            "['ANÁLISE', 'análise', 7]\n",
            "['DE', 'de', 2]\n",
            "['DADOS', 'dados', 5]\n",
            "['DO', 'do', 2]\n",
            "['BRASIL.', 'brasil.', 7]\n"
          ]
        }
      ],
      "source": [
        "# Solução\n",
        "palavras = 'A Data Science Academy oferce os melhores cursos de análise de dados do Brasil.'.split()\n",
        "resultado = map(lambda w: [w.upper(), w.lower(), len(w)], palavras)\n",
        "for i in resultado:\n",
        "    print (i)"
      ]
    },
    {
      "cell_type": "code",
      "execution_count": 38,
      "metadata": {
        "colab": {
          "base_uri": "https://localhost:8080/"
        },
        "id": "eRn7zg6O_XYZ",
        "outputId": "2c984e45-a693-4766-a817-a3f542aca9af"
      },
      "outputs": [
        {
          "output_type": "stream",
          "name": "stdout",
          "text": [
            "1 2 \n",
            "3 4 \n",
            "5 6 \n",
            "7 8 \n",
            "==============================\n",
            "[1, 2]\n",
            "[3, 4]\n",
            "[5, 6]\n",
            "[7, 8]\n",
            "==============================\n",
            "[[1, 3, 5, 7], [2, 4, 6, 8]]\n",
            "==============================\n",
            "[[1, 3, 5, 7], [2, 4, 6, 8]]\n"
          ]
        }
      ],
      "source": [
        "# Exercício 3 - Calcule a matriz transposta da matriz abaixo.\n",
        "# Caso não saiba o que é matriz transposta, visite este link: https://pt.wikipedia.org/wiki/Matriz_transposta\n",
        "# Matriz transposta é um conceito fundamental na construção de redes neurais artificiais, base de sistemas de IA.\n",
        "matrix = [[1, 2],[3,4],[5,6],[7,8]]\n",
        "\n",
        "for itens in matrix:\n",
        "  for i, j in enumerate(itens):\n",
        "    print(itens[i], end=' ')\n",
        "  print()\n",
        "print(\"=\"*30)\n",
        "\n",
        "for itens in matrix:\n",
        " print(itens)\n",
        "\n",
        "print(\"=\"*30)\n",
        "Matriz_transposta = []\n",
        "temp = []\n",
        "\n",
        "# solução 01\n",
        "for col in range(2):\n",
        "  for linha in matrix:\n",
        "    temp.append(linha[col])\n",
        "  Matriz_transposta.append(temp[:])\n",
        "  temp.clear()\n",
        "\n",
        "print(Matriz_transposta)\n",
        "print(\"=\"*30)\n",
        "\n",
        "# solução 02\n",
        "Matriz_transposta = [[linha[col] for linha in matrix] for col in range(2)]\n",
        "\n",
        "print(Matriz_transposta)"
      ]
    },
    {
      "cell_type": "code",
      "execution_count": 48,
      "metadata": {
        "colab": {
          "base_uri": "https://localhost:8080/"
        },
        "id": "7Ge9f-vQ_XYa",
        "outputId": "4b508c19-6362-4999-a6d6-a33e2fd7f207"
      },
      "outputs": [
        {
          "output_type": "stream",
          "name": "stdout",
          "text": [
            "[0, 1, 2, 3, 4]\n",
            "[(0, 0), (1, 1), (4, 8), (9, 27), (16, 64)]\n",
            "==============================\n",
            "[0, 0]\n",
            "[1, 1]\n",
            "[4, 8]\n",
            "[9, 27]\n",
            "[16, 64]\n"
          ]
        }
      ],
      "source": [
        "# Exercício 4 - Crie duas funções, uma para elevar um número ao quadrado e outra para elevar ao cubo.\n",
        "# Aplique as duas funções aos elementos da lista abaixo.\n",
        "# Obs: as duas funções devem ser aplicadas simultaneamente.\n",
        "lista = [0, 1, 2, 3, 4]\n",
        "print(lista)\n",
        "print(list(zip(map(lambda x: x**2, lista), map(lambda x: x**3, lista))))\n",
        "\n",
        "print(\"=\"*30)\n",
        "\n",
        "# opção 2\n",
        "def quadrado(item):\n",
        "        return (item**2)\n",
        "\n",
        "def cubo(item):\n",
        "        return (item**3)\n",
        "\n",
        "funcoes = [quadrado, cubo]\n",
        "\n",
        "for i in lista:\n",
        "    valor = map(lambda x: x(i), funcoes)\n",
        "    print(list((valor)))"
      ]
    },
    {
      "cell_type": "code",
      "execution_count": 60,
      "metadata": {
        "colab": {
          "base_uri": "https://localhost:8080/"
        },
        "id": "TiO-ZQTB_XYb",
        "outputId": "908d21bd-9d76-4443-db77-4bd87e16fd0a"
      },
      "outputs": [
        {
          "output_type": "stream",
          "name": "stdout",
          "text": [
            "[1024, 177147, 16777216]\n",
            "==============================\n"
          ]
        },
        {
          "output_type": "execute_result",
          "data": {
            "text/plain": [
              "[1024, 177147, 16777216]"
            ]
          },
          "metadata": {},
          "execution_count": 60
        }
      ],
      "source": [
        "# Exercício 5 - Abaixo você encontra duas listas. Faça com que cada elemento da listaA seja elevado\n",
        "# ao elemento correspondente na listaB.\n",
        "listaA = [2, 3, 4]\n",
        "listaB = [10, 11, 12]\n",
        "print(list(map(lambda x, y: x**y, listaA, listaB)))\n",
        "print(\"=\"*30)\n",
        "# help(pow)\n",
        "list(map(pow, listaA, listaB))"
      ]
    },
    {
      "cell_type": "code",
      "execution_count": 51,
      "metadata": {
        "colab": {
          "base_uri": "https://localhost:8080/"
        },
        "id": "WUi9dtwN_XYc",
        "outputId": "84c3bb90-e350-48d7-ba32-56e137f06f1b"
      },
      "outputs": [
        {
          "output_type": "execute_result",
          "data": {
            "text/plain": [
              "[-5, -4, -3, -2, -1]"
            ]
          },
          "metadata": {},
          "execution_count": 51
        }
      ],
      "source": [
        "# Exercício 6 - Considerando o range de valores abaixo, use a função filter() para retornar\n",
        "# apenas os valores negativos.\n",
        "# range(-5, 5)\n",
        "list(filter(lambda x: x < 0, range(-5, 5)))"
      ]
    },
    {
      "cell_type": "code",
      "execution_count": 72,
      "metadata": {
        "colab": {
          "base_uri": "https://localhost:8080/"
        },
        "id": "eNYMe0RG_XYd",
        "outputId": "2bf928ae-ccf6-4d53-c43e-72a2084ba5d0"
      },
      "outputs": [
        {
          "output_type": "stream",
          "name": "stdout",
          "text": [
            "[2, 3, 5, 7]\n",
            "[2, 3, 5, 7]\n"
          ]
        }
      ],
      "source": [
        "# Exercício 7 - Usando a função filter(), encontre os valores que são comuns às duas listas abaixo.\n",
        "a = [1,2,3,5,7,9]\n",
        "b = [2,3,5,6,7,8]\n",
        "\n",
        "print(list(filter(lambda x: x in a, b)))\n",
        "\n",
        "#opção 2\n",
        "print(list(set(a) & set(b)))"
      ]
    },
    {
      "cell_type": "code",
      "execution_count": 75,
      "metadata": {
        "colab": {
          "base_uri": "https://localhost:8080/"
        },
        "id": "P3FTwIzd_XYe",
        "outputId": "e227be4e-6fcd-48f8-9ed9-ce456bdbba61"
      },
      "outputs": [
        {
          "output_type": "stream",
          "name": "stdout",
          "text": [
            "{'a': 4, 'b': 5}\n",
            "{'a': 4, 'b': 5}\n"
          ]
        }
      ],
      "source": [
        "# Exercício 8 - Considere os dois dicionários abaixo.\n",
        "# Crie um terceiro dicionário com as chaves do dicionário 1 e os valores do dicionário 2.\n",
        "dict1 = {'a':1,'b':2}\n",
        "dict2 = {'c':4,'d':5}\n",
        "print(dict(zip(dict1, dict2.values())))\n",
        "\n",
        "# opção2\n",
        "\n",
        "def trocaValores(d1, d2):\n",
        "    dicTemp = {}\n",
        "\n",
        "    for d1key, d2val in zip(d1,d2.values()):\n",
        "        dicTemp[d1key] = d2val\n",
        "\n",
        "    return dicTemp\n",
        "\n",
        "dict3 = trocaValores(dict1, dict2)\n",
        "print(dict3)\n"
      ]
    },
    {
      "cell_type": "code",
      "execution_count": 93,
      "metadata": {
        "colab": {
          "base_uri": "https://localhost:8080/"
        },
        "id": "uAiNDe0v_XYf",
        "outputId": "bdce760e-9e7c-453a-e188-670042cabee5"
      },
      "outputs": [
        {
          "output_type": "stream",
          "name": "stdout",
          "text": [
            "[(0, 'a'), (1, 'b'), (2, 'c'), (3, 'd'), (4, 'e'), (5, 'f'), (6, 'g'), (7, 'h')]\n",
            "[(6, 'g'), (7, 'h')]\n",
            "g\n",
            "h\n",
            "g\n",
            "h\n",
            "['g', 'h']\n"
          ]
        }
      ],
      "source": [
        "# Exercício 9 - Considere a lista abaixo e retorne apenas os elementos cujo índice for maior que 5.\n",
        "lista = ['a', 'b', 'c', 'd', 'e', 'f', 'g', 'h']\n",
        "print(list(enumerate(lista)))\n",
        "resultado = list(filter(lambda x: x[0] > 5, enumerate(lista)))\n",
        "print(resultado)\n",
        "for i in resultado:\n",
        "    print(i[1])\n",
        "\n",
        "#opção2\n",
        "\n",
        "for i, v in enumerate(lista):\n",
        "    if i <= 5:\n",
        "        continue\n",
        "    else:\n",
        "        print (v)\n",
        "\n",
        "#opção3\n",
        "print(list(map(lambda x: x[1], filter(lambda x: x[0] > 5, enumerate(lista)))))\n"
      ]
    },
    {
      "cell_type": "code",
      "execution_count": 97,
      "metadata": {
        "colab": {
          "base_uri": "https://localhost:8080/"
        },
        "id": "ZwCgKQpG_XYf",
        "outputId": "7816b394-e44a-4347-b38e-b427dc7bca1d"
      },
      "outputs": [
        {
          "output_type": "stream",
          "name": "stdout",
          "text": [
            "['Academy']\n",
            "A palavra após 'Data Science' é: Academy\n"
          ]
        }
      ],
      "source": [
        "# Exercício 10 - Crie um regex em Python para extrair a palavra que aparece depois das palavras\n",
        "# Data e Science na frase: 'A Data Science Academy oferece os melhores cursos de análise de dados do Brasil.'\n",
        "import re\n",
        "texto = 'A Data Science Academy oferece os melhores cursos de análise de dados do Brasil.'\n",
        "resultado = re.findall(r'Data Science (\\w+)', texto)\n",
        "print(resultado)\n",
        "\n",
        "#opção 2\n",
        "resultado = re.findall(r'Data Science (\\w+)', texto)\n",
        "print(\"A palavra após 'Data Science' é:\", resultado[0])"
      ]
    },
    {
      "cell_type": "markdown",
      "metadata": {
        "id": "j3zmBef5_XYg"
      },
      "source": [
        "# Fim"
      ]
    },
    {
      "cell_type": "markdown",
      "metadata": {
        "id": "omNJXIYq_XYg"
      },
      "source": [
        "### Obrigado\n",
        "\n",
        "### Visite o Blog da Data Science Academy - <a href=\"http://blog.dsacademy.com.br\">Blog DSA</a>"
      ]
    }
  ],
  "metadata": {
    "kernelspec": {
      "display_name": "Python 3 (ipykernel)",
      "language": "python",
      "name": "python3"
    },
    "language_info": {
      "codemirror_mode": {
        "name": "ipython",
        "version": 3
      },
      "file_extension": ".py",
      "mimetype": "text/x-python",
      "name": "python",
      "nbconvert_exporter": "python",
      "pygments_lexer": "ipython3",
      "version": "3.9.13"
    },
    "colab": {
      "provenance": []
    }
  },
  "nbformat": 4,
  "nbformat_minor": 0
}