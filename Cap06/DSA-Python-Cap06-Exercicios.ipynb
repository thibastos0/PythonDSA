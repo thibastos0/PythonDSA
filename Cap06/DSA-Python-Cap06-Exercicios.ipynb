{
  "cells": [
    {
      "cell_type": "markdown",
      "metadata": {
        "id": "o7zXJrQe_XYG"
      },
      "source": [
        "# <font color='blue'>Data Science Academy</font>\n",
        "\n",
        "## <font color='blue'>Fundamentos de Linguagem Python Para Análise de Dados e Data Science</font>\n",
        "\n",
        "## <font color='blue'>Capítulo 6 - Exercícios</font>"
      ]
    },
    {
      "cell_type": "code",
      "execution_count": null,
      "metadata": {
        "id": "VKH3LrEL_XYP"
      },
      "outputs": [],
      "source": [
        "# Versão da Linguagem Python\n",
        "from platform import python_version\n",
        "print('Versão da Linguagem Python Usada Neste Jupyter Notebook:', python_version())"
      ]
    },
    {
      "cell_type": "markdown",
      "metadata": {
        "id": "dlg6LYdU_XYS"
      },
      "source": [
        "## Exercícios"
      ]
    },
    {
      "cell_type": "code",
      "execution_count": 1,
      "metadata": {
        "id": "xrgbN4r__XYT",
        "outputId": "9471200a-89a3-4e7c-b6c8-6cd17b0b3fd5",
        "colab": {
          "base_uri": "https://localhost:8080/"
        }
      },
      "outputs": [
        {
          "output_type": "stream",
          "name": "stdout",
          "text": [
            "[27, 64, 125]\n"
          ]
        }
      ],
      "source": [
        "# Exercício 1 - Crie uma lista de 3 elementos e calcule a terceira potência de cada elemento.\n",
        "lista = [3, 4, 5]\n",
        "# potencia = [item**3 for item in lista]\n",
        "potencia = list(map(lambda x: x**3, lista))\n",
        "print(potencia)"
      ]
    },
    {
      "cell_type": "code",
      "source": [
        "# Exercício extra 01 - Função zip para análise de pares correspondentes (chave: valor)\n",
        "sexo = ['masculino', 'feminino']\n",
        "cores = ['azul', 'rosa']\n",
        "for s, c in zip(sexo, cores):\n",
        "    pessoa = 'Meninos' if s == 'masculino' else 'Meninas'\n",
        "    print(f\"{pessoa} vestem {c}\", end='; ')"
      ],
      "metadata": {
        "id": "OEauUWcxYIAb",
        "outputId": "2f2c0f70-4dd0-45d8-dc29-b96b875130ce",
        "colab": {
          "base_uri": "https://localhost:8080/"
        }
      },
      "execution_count": 7,
      "outputs": [
        {
          "output_type": "stream",
          "name": "stdout",
          "text": [
            "Meninos vestem azul; Meninas vestem rosa; "
          ]
        }
      ]
    },
    {
      "cell_type": "code",
      "source": [
        "# Exercício extra 02 - usando \\r\n",
        "import time\n",
        "print('Contagem regressiva iniciada em:')\n",
        "for i in range(10):\n",
        "    print(10 - i, end='\\r')\n",
        "    time.sleep(1)"
      ],
      "metadata": {
        "id": "5gdZXchSbPlB",
        "outputId": "d65ff70d-d770-4200-ba5a-fc89ca87a6a7",
        "colab": {
          "base_uri": "https://localhost:8080/"
        }
      },
      "execution_count": 10,
      "outputs": [
        {
          "output_type": "stream",
          "name": "stdout",
          "text": [
            "Contagem regressiva iniciada em:\n"
          ]
        }
      ]
    },
    {
      "cell_type": "code",
      "execution_count": 11,
      "metadata": {
        "id": "XaMRiCrd_XYU",
        "outputId": "39845b35-c3e5-400a-e583-a897180317c3",
        "colab": {
          "base_uri": "https://localhost:8080/"
        }
      },
      "outputs": [
        {
          "output_type": "stream",
          "name": "stdout",
          "text": [
            "['A', 'a', 1]\n",
            "['DATA', 'data', 4]\n",
            "['SCIENCE', 'science', 7]\n",
            "['ACADEMY', 'academy', 7]\n",
            "['OFERCE', 'oferce', 6]\n",
            "['OS', 'os', 2]\n",
            "['MELHORES', 'melhores', 8]\n",
            "['CURSOS', 'cursos', 6]\n",
            "['DE', 'de', 2]\n",
            "['ANÁLISE', 'análise', 7]\n",
            "['DE', 'de', 2]\n",
            "['DADOS', 'dados', 5]\n",
            "['DO', 'do', 2]\n",
            "['BRASIL.', 'brasil.', 7]\n"
          ]
        }
      ],
      "source": [
        "# Exercício 2 - Reescreva o código abaixo, usando a função map(). O resultado final deve ser o mesmo!\n",
        "palavras = 'A Data Science Academy oferce os melhores cursos de análise de dados do Brasil.'.split()\n",
        "resultado = [[w.upper(), w.lower(), len(w)] for w in palavras]\n",
        "for i in resultado:\n",
        "    print (i)"
      ]
    },
    {
      "cell_type": "code",
      "execution_count": 12,
      "metadata": {
        "id": "703OU5JS_XYU",
        "outputId": "ecc427f8-372f-499a-f902-d0feed1a28b3",
        "colab": {
          "base_uri": "https://localhost:8080/"
        }
      },
      "outputs": [
        {
          "output_type": "stream",
          "name": "stdout",
          "text": [
            "['A', 'a', 1]\n",
            "['DATA', 'data', 4]\n",
            "['SCIENCE', 'science', 7]\n",
            "['ACADEMY', 'academy', 7]\n",
            "['OFERCE', 'oferce', 6]\n",
            "['OS', 'os', 2]\n",
            "['MELHORES', 'melhores', 8]\n",
            "['CURSOS', 'cursos', 6]\n",
            "['DE', 'de', 2]\n",
            "['ANÁLISE', 'análise', 7]\n",
            "['DE', 'de', 2]\n",
            "['DADOS', 'dados', 5]\n",
            "['DO', 'do', 2]\n",
            "['BRASIL.', 'brasil.', 7]\n"
          ]
        }
      ],
      "source": [
        "# Solução\n",
        "palavras = 'A Data Science Academy oferce os melhores cursos de análise de dados do Brasil.'.split()\n",
        "resultado = map(lambda w: [w.upper(), w.lower(), len(w)], palavras)\n",
        "for i in resultado:\n",
        "    print (i)"
      ]
    },
    {
      "cell_type": "code",
      "execution_count": null,
      "metadata": {
        "id": "eRn7zg6O_XYZ"
      },
      "outputs": [],
      "source": [
        "# Exercício 3 - Calcule a matriz transposta da matriz abaixo.\n",
        "# Caso não saiba o que é matriz transposta, visite este link: https://pt.wikipedia.org/wiki/Matriz_transposta\n",
        "# Matriz transposta é um conceito fundamental na construção de redes neurais artificiais, base de sistemas de IA.\n",
        "matrix = [[1, 2],[3,4],[5,6],[7,8]]\n"
      ]
    },
    {
      "cell_type": "code",
      "execution_count": null,
      "metadata": {
        "id": "7Ge9f-vQ_XYa"
      },
      "outputs": [],
      "source": [
        "# Exercício 4 - Crie duas funções, uma para elevar um número ao quadrado e outra para elevar ao cubo.\n",
        "# Aplique as duas funções aos elementos da lista abaixo.\n",
        "# Obs: as duas funções devem ser aplicadas simultaneamente.\n",
        "lista = [0, 1, 2, 3, 4]\n"
      ]
    },
    {
      "cell_type": "code",
      "execution_count": null,
      "metadata": {
        "id": "TiO-ZQTB_XYb"
      },
      "outputs": [],
      "source": [
        "# Exercício 5 - Abaixo você encontra duas listas. Faça com que cada elemento da listaA seja elevado\n",
        "# ao elemento correspondente na listaB.\n",
        "listaA = [2, 3, 4]\n",
        "listaB = [10, 11, 12]\n"
      ]
    },
    {
      "cell_type": "code",
      "execution_count": null,
      "metadata": {
        "id": "WUi9dtwN_XYc"
      },
      "outputs": [],
      "source": [
        "# Exercício 6 - Considerando o range de valores abaixo, use a função filter() para retornar\n",
        "# apenas os valores negativos.\n",
        "range(-5, 5)\n"
      ]
    },
    {
      "cell_type": "code",
      "execution_count": null,
      "metadata": {
        "id": "eNYMe0RG_XYd"
      },
      "outputs": [],
      "source": [
        "# Exercício 7 - Usando a função filter(), encontre os valores que são comuns às duas listas abaixo.\n",
        "a = [1,2,3,5,7,9]\n",
        "b = [2,3,5,6,7,8]\n"
      ]
    },
    {
      "cell_type": "code",
      "execution_count": null,
      "metadata": {
        "id": "P3FTwIzd_XYe"
      },
      "outputs": [],
      "source": [
        "# Exercício 8 - Considere os dois dicionários abaixo.\n",
        "# Crie um terceiro dicionário com as chaves do dicionário 1 e os valores do dicionário 2.\n",
        "dict1 = {'a':1,'b':2}\n",
        "dict2 = {'c':4,'d':5}\n"
      ]
    },
    {
      "cell_type": "code",
      "execution_count": null,
      "metadata": {
        "id": "uAiNDe0v_XYf"
      },
      "outputs": [],
      "source": [
        "# Exercício 9 - Considere a lista abaixo e retorne apenas os elementos cujo índice for maior que 5.\n",
        "lista = ['a', 'b', 'c', 'd', 'e', 'f', 'g', 'h']\n"
      ]
    },
    {
      "cell_type": "code",
      "execution_count": null,
      "metadata": {
        "id": "ZwCgKQpG_XYf"
      },
      "outputs": [],
      "source": [
        "# Exercício 10 - Crie um regex em Python para extrair a palavra que aparece depois das palavras\n",
        "# Data e Science na frase: 'A Data Science Academy oferce os melhores cursos de análise de dados do Brasil.'\n",
        "import re\n",
        "texto = 'A Data Science Academy oferece os melhores cursos de análise de dados do Brasil.'\n"
      ]
    },
    {
      "cell_type": "markdown",
      "metadata": {
        "id": "j3zmBef5_XYg"
      },
      "source": [
        "# Fim"
      ]
    },
    {
      "cell_type": "markdown",
      "metadata": {
        "id": "omNJXIYq_XYg"
      },
      "source": [
        "### Obrigado\n",
        "\n",
        "### Visite o Blog da Data Science Academy - <a href=\"http://blog.dsacademy.com.br\">Blog DSA</a>"
      ]
    }
  ],
  "metadata": {
    "kernelspec": {
      "display_name": "Python 3 (ipykernel)",
      "language": "python",
      "name": "python3"
    },
    "language_info": {
      "codemirror_mode": {
        "name": "ipython",
        "version": 3
      },
      "file_extension": ".py",
      "mimetype": "text/x-python",
      "name": "python",
      "nbconvert_exporter": "python",
      "pygments_lexer": "ipython3",
      "version": "3.9.13"
    },
    "colab": {
      "provenance": []
    }
  },
  "nbformat": 4,
  "nbformat_minor": 0
}