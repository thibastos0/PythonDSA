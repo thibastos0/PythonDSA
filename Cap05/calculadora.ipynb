{
 "cells": [
  {
   "cell_type": "code",
   "execution_count": 13,
   "id": "1c366cfe",
   "metadata": {},
   "outputs": [
    {
     "name": "stdout",
     "output_type": "stream",
     "text": [
      "\n",
      "******************** Calculadora em Python ********************\n",
      "\n",
      "Selecione o número da operação desejada:\n",
      "\n",
      "1 - Soma\n",
      "2 - Subtração\n",
      "3 - Multiplicação\n",
      "4 - Divisão\n",
      "\n",
      "Digite sua opção (1/2/3/4): 4\n",
      "Digite o primeiro número: 10\n",
      "Digite o segundo número: 0\n",
      "Não é possível divisão por zero.\n"
     ]
    }
   ],
   "source": [
    "def somar(a, b, operador):\n",
    "    print(f'{a:.2f} {operador} {b:.2f} = {a+b:.2f}')\n",
    "\n",
    "def subtrair(a, b, operador):\n",
    "    print(f'{a:.2f} {operador} {b:.2f} = {a-b:.2f}')\n",
    "\n",
    "def multiplicar(a, b, operador):\n",
    "    print(f'{a:.2f} {operador} {b:.2f} = {a*b:.2f}')\n",
    "\n",
    "def dividir(a, b, operador):\n",
    "    if b != 0:\n",
    "        print(f'{a:.2f} {operador} {b:.2f} = {a/b:.2f}')\n",
    "    else:\n",
    "        print(\"Não é possível divisão por zero.\")\n",
    "\n",
    "print(\"\"\"\n",
    "******************** Calculadora em Python ********************\n",
    "\n",
    "Selecione o número da operação desejada:\n",
    "\n",
    "1 - Soma\n",
    "2 - Subtração\n",
    "3 - Multiplicação\n",
    "4 - Divisão\n",
    "\"\"\")\n",
    "opcao = int(input(\"Digite sua opção (1/2/3/4): \"))\n",
    "numero_1 = float(input(\"Digite o primeiro número: \"))\n",
    "numero_2 = float(input(\"Digite o segundo número: \"))\n",
    "\n",
    "if opcao == 1:\n",
    "    somar(numero_1, numero_2, '+')    \n",
    "elif opcao == 2:\n",
    "    subtrair(numero_1, numero_2, '-')    \n",
    "elif opcao == 3:\n",
    "    multiplicar(numero_1, numero_2, 'x')    \n",
    "elif opcao == 4:\n",
    "    dividir(numero_1, numero_2, ':')    \n",
    "else:\n",
    "    print(\"Opção de operação inválida!\")\n",
    "\n",
    "# Exemplo de tela opção soma: numero_1 + numero_2 = x\n"
   ]
  },
  {
   "cell_type": "code",
   "execution_count": null,
   "id": "257c3f07",
   "metadata": {},
   "outputs": [],
   "source": []
  },
  {
   "cell_type": "code",
   "execution_count": null,
   "id": "25850e13",
   "metadata": {},
   "outputs": [],
   "source": []
  }
 ],
 "metadata": {
  "kernelspec": {
   "display_name": "Python 3 (ipykernel)",
   "language": "python",
   "name": "python3"
  },
  "language_info": {
   "codemirror_mode": {
    "name": "ipython",
    "version": 3
   },
   "file_extension": ".py",
   "mimetype": "text/x-python",
   "name": "python",
   "nbconvert_exporter": "python",
   "pygments_lexer": "ipython3",
   "version": "3.9.13"
  }
 },
 "nbformat": 4,
 "nbformat_minor": 5
}
