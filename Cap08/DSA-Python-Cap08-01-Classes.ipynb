{
  "cells": [
    {
      "cell_type": "markdown",
      "metadata": {
        "id": "-lceXBnTV75d"
      },
      "source": [
        "# <font color='blue'>Data Science Academy</font>\n",
        "\n",
        "## <font color='blue'>Fundamentos de Linguagem Python Para Análise de Dados e Data Science</font>\n",
        "\n",
        "## <font color='blue'>Introdução à Programação Orientada a Objetos</font>"
      ]
    },
    {
      "cell_type": "markdown",
      "metadata": {
        "id": "ltVkda5bqkX3"
      },
      "source": []
    },
    {
      "cell_type": "code",
      "execution_count": 27,
      "metadata": {
        "colab": {
          "base_uri": "https://localhost:8080/"
        },
        "id": "95fH2HAdV75f",
        "outputId": "41d6fa2c-6338-41cc-9844-82c86091404c"
      },
      "outputs": [
        {
          "name": "stdout",
          "output_type": "stream",
          "text": [
            "Versão da Linguagem Python Usada Neste Jupyter Notebook: 3.10.12\n"
          ]
        }
      ],
      "source": [
        "# Versão da Linguagem Python\n",
        "from platform import python_version\n",
        "print('Versão da Linguagem Python Usada Neste Jupyter Notebook:', python_version())"
      ]
    },
    {
      "cell_type": "markdown",
      "metadata": {
        "id": "E9JpVvbYV75g"
      },
      "source": [
        "## Classes\n",
        "\n",
        "Em Programação Orientada a Objetos (POO), uma classe é uma estrutura que descreve um objeto, especificando os atributos e comportamentos que o objeto deve ter. Uma classe é uma espécie de modelo que define as características e ações que um objeto deve possuir.\n",
        "\n",
        "As classes são usadas para criar objetos, que são instâncias da classe. Cada objeto criado a partir da mesma classe terá os mesmos atributos e comportamentos."
      ]
    },
    {
      "cell_type": "markdown",
      "metadata": {
        "id": "Pki7az6FV75h"
      },
      "source": [
        "Para criar uma classe em Python, utiliza-se a palavra reservada class.\n",
        "\n",
        "O nome da classe segue a mesma convenção de nomes para criação de funções e variáveis em Python, mas normalmente se usa a primeira letra maiúscula em cada palavra no nome da classe."
      ]
    },
    {
      "cell_type": "code",
      "execution_count": 1,
      "metadata": {
        "id": "BNbmdXVaV75i"
      },
      "outputs": [],
      "source": [
        "# Criando uma classe chamada Livro\n",
        "class Livro():\n",
        "\n",
        "    # Este método vai inicializar cada objeto criado a partir desta classe\n",
        "    # O nome deste método é __init__\n",
        "    # (self) é uma referência a cada atributo da própria classe (e não de uma classe mãe, por exemplo)\n",
        "    def __init__(self):\n",
        "\n",
        "        # Atributos são propriedades\n",
        "        self.titulo = 'Sapiens - Uma Breve História da Humanidade'\n",
        "        self.isbn = 9988888\n",
        "        print(\"Construtor chamado para criar um objeto desta classe.\")\n",
        "\n",
        "    # Métodos são funções que executam ações nos objetos da classe\n",
        "    def imprime(self):\n",
        "        # print(\"Foi criado o livro %s com ISBN %d\" %(self.titulo, self.isbn))\n",
        "        print(f\"Foi criado o livro {self.titulo} com ISBN {self.isbn}.\")"
      ]
    },
    {
      "cell_type": "markdown",
      "metadata": {
        "id": "CSmcML_hV75j"
      },
      "source": [
        "Em Python, a palavra reservada self é uma referência ao objeto atual da classe. Quando um objeto é criado a partir de uma classe, self é utilizado para se referir a esse objeto específico."
      ]
    },
    {
      "cell_type": "code",
      "execution_count": 2,
      "metadata": {
        "colab": {
          "base_uri": "https://localhost:8080/"
        },
        "id": "6FFwqW16V75k",
        "outputId": "70e737ca-5faf-488c-cd91-e70ad3030d1e"
      },
      "outputs": [
        {
          "name": "stdout",
          "output_type": "stream",
          "text": [
            "Construtor chamado para criar um objeto desta classe.\n"
          ]
        }
      ],
      "source": [
        "# Criando uma instância da classe Livro\n",
        "Livro1 = Livro()"
      ]
    },
    {
      "cell_type": "code",
      "execution_count": 3,
      "metadata": {
        "colab": {
          "base_uri": "https://localhost:8080/",
          "height": 104
        },
        "id": "pyOZ0cCcV75l",
        "outputId": "8d559c2a-6985-4d6f-a20f-c8ff06bb19b0"
      },
      "outputs": [
        {
          "data": {
            "text/html": [
              "<div style=\"max-width:800px; border: 1px solid var(--colab-border-color);\"><style>\n",
              "      pre.function-repr-contents {\n",
              "        overflow-x: auto;\n",
              "        padding: 8px 12px;\n",
              "        max-height: 500px;\n",
              "      }\n",
              "\n",
              "      pre.function-repr-contents.function-repr-contents-collapsed {\n",
              "        cursor: pointer;\n",
              "        max-height: 100px;\n",
              "      }\n",
              "    </style>\n",
              "    <pre style=\"white-space: initial; background:\n",
              "         var(--colab-secondary-surface-color); padding: 8px 12px;\n",
              "         border-bottom: 1px solid var(--colab-border-color);\"><b>Livro</b><br/>def __init__()</pre><pre class=\"function-repr-contents function-repr-contents-collapsed\" style=\"\"><a class=\"filepath\" style=\"display:none\" href=\"#\"></a>&lt;no docstring&gt;</pre></div>"
            ],
            "text/plain": [
              "__main__.Livro"
            ]
          },
          "execution_count": 3,
          "metadata": {},
          "output_type": "execute_result"
        }
      ],
      "source": [
        "# O objeto Livro1 é do tipo Livro\n",
        "type(Livro1)"
      ]
    },
    {
      "cell_type": "code",
      "execution_count": 4,
      "metadata": {
        "colab": {
          "base_uri": "https://localhost:8080/",
          "height": 35
        },
        "id": "j4fgOuv6V75m",
        "outputId": "a75fe978-e3da-4e06-c848-7ed51f9f6744"
      },
      "outputs": [
        {
          "data": {
            "application/vnd.google.colaboratory.intrinsic+json": {
              "type": "string"
            },
            "text/plain": [
              "'Sapiens - Uma Breve História da Humanidade'"
            ]
          },
          "execution_count": 4,
          "metadata": {},
          "output_type": "execute_result"
        }
      ],
      "source": [
        "# Atributo do objeto Livro1\n",
        "Livro1.titulo"
      ]
    },
    {
      "cell_type": "code",
      "execution_count": 5,
      "metadata": {
        "colab": {
          "base_uri": "https://localhost:8080/"
        },
        "id": "Z9ElX42vV75m",
        "outputId": "6195b041-3c7c-4ed3-9232-c2092b6ea30f"
      },
      "outputs": [
        {
          "name": "stdout",
          "output_type": "stream",
          "text": [
            "Foi criado o livro Sapiens - Uma Breve História da Humanidade com ISBN 9988888.\n"
          ]
        }
      ],
      "source": [
        "# Método do objeto Livro1\n",
        "Livro1.imprime()"
      ]
    },
    {
      "cell_type": "code",
      "execution_count": 7,
      "metadata": {
        "id": "QcAHtSuwV75n"
      },
      "outputs": [],
      "source": [
        "# Criando a classe Livro com parâmetros no método construtor\n",
        "class Livro():\n",
        "\n",
        "    def __init__(self, titulo, isbn):\n",
        "        self.titulo = titulo\n",
        "        self.isbn = isbn\n",
        "        print(\"Construtor chamado para criar um objeto desta classe.\")\n",
        "\n",
        "    def imprime(self, titulo, isbn):\n",
        "        # print(\"Este é o livro %s e ISBN %d\" %(titulo, isbn))\n",
        "        print(f\"Este é o livro {titulo} e ISBN {isbn}.\")"
      ]
    },
    {
      "cell_type": "code",
      "execution_count": 8,
      "metadata": {
        "colab": {
          "base_uri": "https://localhost:8080/"
        },
        "id": "_JDVDUY-V75n",
        "outputId": "34f068d4-6297-49ab-fbbf-2160f955196c"
      },
      "outputs": [
        {
          "name": "stdout",
          "output_type": "stream",
          "text": [
            "Construtor chamado para criar um objeto desta classe.\n"
          ]
        }
      ],
      "source": [
        "# Criando o objeto Livro2 que é uma instância da classe Livro\n",
        "Livro2 = Livro(\"O Poder do Hábito\", 77886611)"
      ]
    },
    {
      "cell_type": "code",
      "execution_count": 9,
      "metadata": {
        "colab": {
          "base_uri": "https://localhost:8080/",
          "height": 35
        },
        "id": "UMkP1L8cV75o",
        "outputId": "ecb23f3e-1c18-4c4a-ba8e-114aaabdb057"
      },
      "outputs": [
        {
          "data": {
            "application/vnd.google.colaboratory.intrinsic+json": {
              "type": "string"
            },
            "text/plain": [
              "'O Poder do Hábito'"
            ]
          },
          "execution_count": 9,
          "metadata": {},
          "output_type": "execute_result"
        }
      ],
      "source": [
        "Livro2.titulo"
      ]
    },
    {
      "cell_type": "code",
      "execution_count": 10,
      "metadata": {
        "colab": {
          "base_uri": "https://localhost:8080/"
        },
        "id": "sZmNE-yUV75o",
        "outputId": "066a62af-336d-4ad2-d0bc-86c155cc2ef0"
      },
      "outputs": [
        {
          "name": "stdout",
          "output_type": "stream",
          "text": [
            "Este é o livro O Poder do Hábito e ISBN 77886611.\n"
          ]
        }
      ],
      "source": [
        "# Método do objeto Livro2\n",
        "Livro2.imprime(\"O Poder do Hábito\", 77886611)"
      ]
    },
    {
      "cell_type": "code",
      "execution_count": 11,
      "metadata": {
        "id": "HIzIniuDV75o"
      },
      "outputs": [],
      "source": [
        "# Criando a classe\n",
        "class Algoritmo():\n",
        "\n",
        "    def __init__(self, tipo_algo):\n",
        "        self.tipo = tipo_algo\n",
        "        print(\"Construtor chamado para criar um objeto desta classe.\")"
      ]
    },
    {
      "cell_type": "code",
      "execution_count": 12,
      "metadata": {
        "colab": {
          "base_uri": "https://localhost:8080/"
        },
        "id": "6YPIOSgpV75p",
        "outputId": "f3615d75-6259-4650-d1a4-fc12e4899ad5"
      },
      "outputs": [
        {
          "name": "stdout",
          "output_type": "stream",
          "text": [
            "Construtor chamado para criar um objeto desta classe.\n"
          ]
        }
      ],
      "source": [
        "# Criando um objeto a partir da classe\n",
        "algo1 = Algoritmo(tipo_algo = 'Random Forest')"
      ]
    },
    {
      "cell_type": "code",
      "execution_count": 13,
      "metadata": {
        "colab": {
          "base_uri": "https://localhost:8080/"
        },
        "id": "eCezEOZwV75p",
        "outputId": "f6696e83-5bc4-44e4-ce65-a0d90ce37c20"
      },
      "outputs": [
        {
          "name": "stdout",
          "output_type": "stream",
          "text": [
            "Construtor chamado para criar um objeto desta classe.\n"
          ]
        }
      ],
      "source": [
        "# Criando um objeto a partir da classe\n",
        "algo2 = Algoritmo(tipo_algo = 'Deep Learning')"
      ]
    },
    {
      "cell_type": "code",
      "execution_count": 14,
      "metadata": {
        "colab": {
          "base_uri": "https://localhost:8080/",
          "height": 35
        },
        "id": "kItjbY2MV75p",
        "outputId": "c9c177e9-79f9-4c8f-f82a-01be3a10523b"
      },
      "outputs": [
        {
          "data": {
            "application/vnd.google.colaboratory.intrinsic+json": {
              "type": "string"
            },
            "text/plain": [
              "'Random Forest'"
            ]
          },
          "execution_count": 14,
          "metadata": {},
          "output_type": "execute_result"
        }
      ],
      "source": [
        "# Atributo da classe\n",
        "algo1.tipo"
      ]
    },
    {
      "cell_type": "code",
      "execution_count": 15,
      "metadata": {
        "colab": {
          "base_uri": "https://localhost:8080/",
          "height": 35
        },
        "id": "7Na-K4uVV75q",
        "outputId": "3ae6500a-9bdd-44ea-9f1d-ead2bd435e76"
      },
      "outputs": [
        {
          "data": {
            "application/vnd.google.colaboratory.intrinsic+json": {
              "type": "string"
            },
            "text/plain": [
              "'Deep Learning'"
            ]
          },
          "execution_count": 15,
          "metadata": {},
          "output_type": "execute_result"
        }
      ],
      "source": [
        "# Atributo da classe\n",
        "algo2.tipo"
      ]
    },
    {
      "cell_type": "markdown",
      "metadata": {
        "id": "W6kS3wmbV75q"
      },
      "source": [
        "# Fim"
      ]
    },
    {
      "cell_type": "markdown",
      "metadata": {
        "id": "c1Hzw6kIV75q"
      },
      "source": [
        "### Obrigado\n",
        "\n",
        "### Visite o Blog da Data Science Academy - <a href=\"http://blog.dsacademy.com.br\">Blog DSA</a>"
      ]
    }
  ],
  "metadata": {
    "colab": {
      "provenance": []
    },
    "kernelspec": {
      "display_name": "Python 3",
      "language": "python",
      "name": "python3"
    },
    "language_info": {
      "codemirror_mode": {
        "name": "ipython",
        "version": 3
      },
      "file_extension": ".py",
      "mimetype": "text/x-python",
      "name": "python",
      "nbconvert_exporter": "python",
      "pygments_lexer": "ipython3",
      "version": "3.11.2"
    }
  },
  "nbformat": 4,
  "nbformat_minor": 0
}
