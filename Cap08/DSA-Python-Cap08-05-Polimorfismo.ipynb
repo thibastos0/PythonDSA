{
  "cells": [
    {
      "cell_type": "markdown",
      "metadata": {
        "id": "uMPHU8CWaEFJ"
      },
      "source": [
        "# <font color='blue'>Data Science Academy</font>\n",
        "\n",
        "## <font color='blue'>Fundamentos de Linguagem Python Para Análise de Dados e Data Science</font>\n",
        "\n",
        "## <font color='blue'>Introdução à Programação Orientada a Objetos</font>"
      ]
    },
    {
      "cell_type": "code",
      "execution_count": 1,
      "metadata": {
        "colab": {
          "base_uri": "https://localhost:8080/"
        },
        "id": "gz6iV_AQaEFN",
        "outputId": "5decb57e-4dcf-4bd8-d06f-b90ec56c30f9"
      },
      "outputs": [
        {
          "output_type": "stream",
          "name": "stdout",
          "text": [
            "Versão da Linguagem Python Usada Neste Jupyter Notebook: 3.10.12\n"
          ]
        }
      ],
      "source": [
        "# Versão da Linguagem Python\n",
        "from platform import python_version\n",
        "print('Versão da Linguagem Python Usada Neste Jupyter Notebook:', python_version())"
      ]
    },
    {
      "cell_type": "markdown",
      "metadata": {
        "id": "66GtVDGFaEFP"
      },
      "source": [
        "## Trabalhando com Polimorfismo de Classes em Python\n",
        "\n",
        "Polimorfismo é um dos conceitos fundamentais da Programação Orientada a Objetos (POO). O polimorfismo permite que objetos de diferentes classes possam ser tratados de forma uniforme. Isso significa que um objeto pode ser tratado como se fosse um objeto de uma superclasse, mesmo que ele seja de uma subclasse.\n",
        "\n",
        "Mais especificamente, o polimorfismo se refere à habilidade de um objeto responder de diferentes formas a uma mesma mensagem. Isso é possível porque as subclasses podem implementar métodos com o mesmo nome que os métodos da superclasse, mas com comportamentos diferentes.\n",
        "\n",
        "Com o Polimorfismo, os mesmos atributos e métodos podem ser utilizados em objetos distintos, porém, com implementações lógicas diferentes."
      ]
    },
    {
      "cell_type": "code",
      "execution_count": 2,
      "metadata": {
        "id": "du3xzIoSaEFQ"
      },
      "outputs": [],
      "source": [
        "# Superclasse\n",
        "class Veiculo:\n",
        "\n",
        "    def __init__(self, marca, modelo):\n",
        "        self.marca = marca\n",
        "        self.modelo = modelo\n",
        "\n",
        "    def acelerar(self):\n",
        "        pass\n",
        "\n",
        "    def frear(self):\n",
        "        pass"
      ]
    },
    {
      "cell_type": "code",
      "execution_count": 3,
      "metadata": {
        "id": "Z1fNYJcDaEFQ"
      },
      "outputs": [],
      "source": [
        "# Subclasse\n",
        "class Carro(Veiculo):\n",
        "\n",
        "    def acelerar(self):\n",
        "        print(\"O carro está acelerando.\")\n",
        "\n",
        "    def frear(self):\n",
        "        print(\"O carro está freando.\")"
      ]
    },
    {
      "cell_type": "code",
      "execution_count": 4,
      "metadata": {
        "id": "9X_Ne0MmaEFR"
      },
      "outputs": [],
      "source": [
        "# Subclasse\n",
        "class Moto(Veiculo):\n",
        "\n",
        "    def acelerar(self):\n",
        "        print(\"A moto está acelerando.\")\n",
        "\n",
        "    def frear(self):\n",
        "        print(\"A moto está freando.\")"
      ]
    },
    {
      "cell_type": "code",
      "execution_count": 5,
      "metadata": {
        "id": "OIqkAbbZaEFR"
      },
      "outputs": [],
      "source": [
        "# Subclasse\n",
        "class Aviao(Veiculo):\n",
        "\n",
        "    def acelerar(self):\n",
        "        print(\"O avião está acelerando.\")\n",
        "\n",
        "    def frear(self):\n",
        "        print(\"O avião está freando.\")\n",
        "\n",
        "    def decolar(self):\n",
        "        print(\"O avião está decolando.\")"
      ]
    },
    {
      "cell_type": "code",
      "execution_count": 6,
      "metadata": {
        "id": "z188R5uMaEFS"
      },
      "outputs": [],
      "source": [
        "# Cria os objetos\n",
        "lista_veiculos = [Carro(\"Porsche\", \"911 Turbo\"), Moto(\"Honda\", \"CB 1000R Black Edition\"), Aviao(\"Boeing\", \"757\")]"
      ]
    },
    {
      "cell_type": "code",
      "execution_count": 7,
      "metadata": {
        "colab": {
          "base_uri": "https://localhost:8080/"
        },
        "id": "9wg6-BqVaEFS",
        "outputId": "76c456ef-9007-4a92-d406-1d27a3fc336e"
      },
      "outputs": [
        {
          "output_type": "execute_result",
          "data": {
            "text/plain": [
              "list"
            ]
          },
          "metadata": {},
          "execution_count": 7
        }
      ],
      "source": [
        "type(lista_veiculos)"
      ]
    },
    {
      "cell_type": "code",
      "execution_count": 8,
      "metadata": {
        "colab": {
          "base_uri": "https://localhost:8080/"
        },
        "id": "KBUJBMd1aEFT",
        "outputId": "b72582f4-705c-4c94-c085-7090f4f48551"
      },
      "outputs": [
        {
          "output_type": "stream",
          "name": "stdout",
          "text": [
            "O carro está acelerando.\n",
            "O carro está freando.\n",
            "---\n",
            "A moto está acelerando.\n",
            "A moto está freando.\n",
            "---\n",
            "O avião está acelerando.\n",
            "O avião está freando.\n",
            "O avião está decolando.\n",
            "---\n"
          ]
        }
      ],
      "source": [
        "# Loop\n",
        "for item in lista_veiculos:\n",
        "\n",
        "    # O método acelerar tem comportamento diferente dependendo do tipo de objeto\n",
        "    item.acelerar()\n",
        "\n",
        "    # O método frear tem comportamento diferente dependendo do tipo de objeto\n",
        "    item.frear()\n",
        "\n",
        "    # Executamos o método decolar somente se o o objeto for instância da classe Aviao\n",
        "    if isinstance(item, Aviao):\n",
        "        item.decolar()\n",
        "\n",
        "    print(\"---\")"
      ]
    },
    {
      "cell_type": "markdown",
      "metadata": {
        "id": "n5nh7xoEaEFT"
      },
      "source": [
        "# Fim"
      ]
    },
    {
      "cell_type": "markdown",
      "metadata": {
        "id": "I0MGawh6aEFU"
      },
      "source": [
        "### Obrigado\n",
        "\n",
        "### Visite o Blog da Data Science Academy - <a href=\"http://blog.dsacademy.com.br\">Blog DSA</a>"
      ]
    }
  ],
  "metadata": {
    "kernelspec": {
      "display_name": "Python 3 (ipykernel)",
      "language": "python",
      "name": "python3"
    },
    "language_info": {
      "codemirror_mode": {
        "name": "ipython",
        "version": 3
      },
      "file_extension": ".py",
      "mimetype": "text/x-python",
      "name": "python",
      "nbconvert_exporter": "python",
      "pygments_lexer": "ipython3",
      "version": "3.9.13"
    },
    "colab": {
      "provenance": []
    }
  },
  "nbformat": 4,
  "nbformat_minor": 0
}