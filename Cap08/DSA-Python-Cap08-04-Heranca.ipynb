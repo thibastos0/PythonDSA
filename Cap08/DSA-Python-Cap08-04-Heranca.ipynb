{
  "cells": [
    {
      "cell_type": "markdown",
      "metadata": {
        "id": "a7vtiM9qXAnA"
      },
      "source": [
        "# <font color='blue'>Data Science Academy</font>\n",
        "\n",
        "## <font color='blue'>Fundamentos de Linguagem Python Para Análise de Dados e Data Science</font>\n",
        "\n",
        "## <font color='blue'>Introdução à Programação Orientada a Objetos</font>"
      ]
    },
    {
      "cell_type": "code",
      "execution_count": 1,
      "metadata": {
        "id": "zKahekv9XAnG",
        "outputId": "33771b72-df21-4bf3-ba49-5d908753e2ae",
        "colab": {
          "base_uri": "https://localhost:8080/"
        }
      },
      "outputs": [
        {
          "output_type": "stream",
          "name": "stdout",
          "text": [
            "Versão da Linguagem Python Usada Neste Jupyter Notebook: 3.10.12\n"
          ]
        }
      ],
      "source": [
        "# Versão da Linguagem Python\n",
        "from platform import python_version\n",
        "print('Versão da Linguagem Python Usada Neste Jupyter Notebook:', python_version())"
      ]
    },
    {
      "cell_type": "markdown",
      "metadata": {
        "id": "sYD1-I8vXAnJ"
      },
      "source": [
        "## Trabalhando com Herança de Classes em Python\n",
        "\n",
        "Em Programação Orientada a Objetos (POO), a herança é um conceito que permite criar novas classes a partir de outras classes existentes, aproveitando os atributos e métodos da classe original e adicionando novos atributos e métodos específicos.\n",
        "\n",
        "A classe original é chamada de classe mãe ou superclasse e a nova classe criada é chamada de classe filha ou subclasse.\n",
        "\n",
        "A herança é uma técnica importante em POO porque permite reutilizar o código de maneira eficiente. Em vez de criar uma nova classe do zero, a subclasse pode herdar todos os atributos e métodos da superclasse e adicionar apenas o que é necessário. Dessa forma, a subclasse pode se concentrar em fornecer funcionalidades adicionais sem precisar se preocupar com as características básicas da classe.\n",
        "\n",
        "Na herança, uma subclasse pode herdar os atributos e métodos da superclasse e substituí-los ou estendê-los conforme necessário. Por exemplo, uma subclasse pode ter um método com o mesmo nome de um método da superclasse, mas com um comportamento diferente."
      ]
    },
    {
      "cell_type": "code",
      "execution_count": 2,
      "metadata": {
        "id": "O0rr8UEBXAnK"
      },
      "outputs": [],
      "source": [
        "# Criando a classe Animal - Super-classe\n",
        "class Animal:\n",
        "\n",
        "    def __init__(self):\n",
        "        print(\"Animal criado.\")\n",
        "\n",
        "    def imprimir(self):\n",
        "        print(\"Este é um animal.\")\n",
        "\n",
        "    def comer(self):\n",
        "        print(\"Hora de comer.\")\n",
        "\n",
        "    def emitir_som(self):\n",
        "        pass"
      ]
    },
    {
      "cell_type": "code",
      "execution_count": 3,
      "metadata": {
        "id": "9-gwfQ5aXAnL"
      },
      "outputs": [],
      "source": [
        "# Criando a classe Cachorro - Sub-classe\n",
        "class Cachorro(Animal):\n",
        "\n",
        "    def __init__(self):\n",
        "        Animal.__init__(self)\n",
        "        print(\"Objeto Cachorro criado.\")\n",
        "\n",
        "    def emitir_som(self):\n",
        "        print(\"Au au!\")"
      ]
    },
    {
      "cell_type": "code",
      "execution_count": 4,
      "metadata": {
        "id": "AbcqR4TFXAnL"
      },
      "outputs": [],
      "source": [
        "# Criando a classe Gato - Sub-classe\n",
        "class Gato(Animal):\n",
        "\n",
        "    def __init__(self):\n",
        "        Animal.__init__(self)\n",
        "        print(\"Objeto Gato criado.\")\n",
        "\n",
        "    def emitir_som(self):\n",
        "        print(\"Miau!\")"
      ]
    },
    {
      "cell_type": "code",
      "execution_count": 5,
      "metadata": {
        "id": "f_BMT-7fXAnM",
        "outputId": "1942b2d0-4f72-4b17-c7eb-f541413d9548",
        "colab": {
          "base_uri": "https://localhost:8080/"
        }
      },
      "outputs": [
        {
          "output_type": "stream",
          "name": "stdout",
          "text": [
            "Animal criado.\n",
            "Objeto Cachorro criado.\n"
          ]
        }
      ],
      "source": [
        "# Criando um objeto (Instanciando a classe)\n",
        "rex = Cachorro()"
      ]
    },
    {
      "cell_type": "code",
      "execution_count": 6,
      "metadata": {
        "id": "zlwTqZWlXAnN",
        "outputId": "078097e4-d2ee-4d7b-bb66-fed9c7271e04",
        "colab": {
          "base_uri": "https://localhost:8080/"
        }
      },
      "outputs": [
        {
          "output_type": "stream",
          "name": "stdout",
          "text": [
            "Animal criado.\n",
            "Objeto Gato criado.\n"
          ]
        }
      ],
      "source": [
        "# Criando um objeto (Instanciando a classe)\n",
        "zeze = Gato()"
      ]
    },
    {
      "cell_type": "code",
      "execution_count": 7,
      "metadata": {
        "id": "__iZgopDXAnO",
        "outputId": "cdc7ac75-017f-4106-ae2b-d77fcc653b65",
        "colab": {
          "base_uri": "https://localhost:8080/"
        }
      },
      "outputs": [
        {
          "output_type": "stream",
          "name": "stdout",
          "text": [
            "Au au!\n"
          ]
        }
      ],
      "source": [
        "rex.emitir_som()"
      ]
    },
    {
      "cell_type": "code",
      "execution_count": 8,
      "metadata": {
        "id": "zfB_fb3gXAnO",
        "outputId": "0f33ecf3-8506-47a4-fd51-64237e4e6aab",
        "colab": {
          "base_uri": "https://localhost:8080/"
        }
      },
      "outputs": [
        {
          "output_type": "stream",
          "name": "stdout",
          "text": [
            "Miau!\n"
          ]
        }
      ],
      "source": [
        "zeze.emitir_som()"
      ]
    },
    {
      "cell_type": "code",
      "execution_count": 9,
      "metadata": {
        "id": "2TKz7ewEXAnP",
        "outputId": "4912715a-d95b-43ab-d4a9-fb9e4271112e",
        "colab": {
          "base_uri": "https://localhost:8080/"
        }
      },
      "outputs": [
        {
          "output_type": "stream",
          "name": "stdout",
          "text": [
            "Este é um animal.\n"
          ]
        }
      ],
      "source": [
        "# Executando o método da classe Cachorro (sub-classe)\n",
        "rex.imprimir()"
      ]
    },
    {
      "cell_type": "code",
      "execution_count": 10,
      "metadata": {
        "id": "Tj9A4gtlXAnP",
        "outputId": "3ab10d5b-8f29-45fd-b7d9-eb7b5152868b",
        "colab": {
          "base_uri": "https://localhost:8080/"
        }
      },
      "outputs": [
        {
          "output_type": "stream",
          "name": "stdout",
          "text": [
            "Hora de comer.\n"
          ]
        }
      ],
      "source": [
        "# Executando o método da classe Animal (super-classe)\n",
        "rex.comer()"
      ]
    },
    {
      "cell_type": "code",
      "execution_count": 11,
      "metadata": {
        "id": "mbwdgSCSXAnQ",
        "outputId": "f4d75851-4b5d-4625-b7ba-571f40abd4e5",
        "colab": {
          "base_uri": "https://localhost:8080/"
        }
      },
      "outputs": [
        {
          "output_type": "stream",
          "name": "stdout",
          "text": [
            "Hora de comer.\n"
          ]
        }
      ],
      "source": [
        "# Executando o método da classe Cachorro (sub-classe)\n",
        "zeze.comer()"
      ]
    },
    {
      "cell_type": "markdown",
      "metadata": {
        "id": "b5XChEPLXAnQ"
      },
      "source": [
        "# Fim"
      ]
    },
    {
      "cell_type": "markdown",
      "metadata": {
        "id": "vYeOBKRQXAnR"
      },
      "source": [
        "### Obrigado\n",
        "\n",
        "### Visite o Blog da Data Science Academy - <a href=\"http://blog.dsacademy.com.br\">Blog DSA</a>"
      ]
    }
  ],
  "metadata": {
    "kernelspec": {
      "display_name": "Python 3 (ipykernel)",
      "language": "python",
      "name": "python3"
    },
    "language_info": {
      "codemirror_mode": {
        "name": "ipython",
        "version": 3
      },
      "file_extension": ".py",
      "mimetype": "text/x-python",
      "name": "python",
      "nbconvert_exporter": "python",
      "pygments_lexer": "ipython3",
      "version": "3.9.13"
    },
    "colab": {
      "provenance": []
    }
  },
  "nbformat": 4,
  "nbformat_minor": 0
}