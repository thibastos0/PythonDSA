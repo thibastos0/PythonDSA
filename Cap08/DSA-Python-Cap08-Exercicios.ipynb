{
  "cells": [
    {
      "cell_type": "markdown",
      "metadata": {
        "id": "TIa6lrage8qF"
      },
      "source": [
        "# <font color='blue'>Data Science Academy</font>\n",
        "\n",
        "## <font color='blue'>Fundamentos de Linguagem Python Para Análise de Dados e Data Science</font>\n",
        "\n",
        "## <font color='blue'>Introdução à Programação Orientada a Objetos</font>"
      ]
    },
    {
      "cell_type": "code",
      "execution_count": 1,
      "metadata": {
        "id": "1Ma2FQITe8qI",
        "outputId": "5f87e5a4-fa63-4b59-ebb5-e51037c939fe",
        "colab": {
          "base_uri": "https://localhost:8080/"
        }
      },
      "outputs": [
        {
          "output_type": "stream",
          "name": "stdout",
          "text": [
            "Versão da Linguagem Python Usada Neste Jupyter Notebook: 3.10.12\n"
          ]
        }
      ],
      "source": [
        "# Versão da Linguagem Python\n",
        "from platform import python_version\n",
        "print('Versão da Linguagem Python Usada Neste Jupyter Notebook:', python_version())"
      ]
    },
    {
      "cell_type": "markdown",
      "metadata": {
        "id": "ZZZO9Ef2e8qN"
      },
      "source": [
        "## Exercícios"
      ]
    },
    {
      "cell_type": "code",
      "execution_count": 3,
      "metadata": {
        "id": "AqRiKZSie8qO"
      },
      "outputs": [],
      "source": [
        "# Exercício 1 - Crie um objeto a partir da classe abaixo, chamado roc1,\n",
        "# passando 2 parâmetros e depois faça uma chamada aos atributos e métodos\n",
        "from math import sqrt\n",
        "\n",
        "class Rocket():\n",
        "\n",
        "    def __init__(self, x=0, y=0):\n",
        "        self.x = x\n",
        "        self.y = y\n",
        "\n",
        "    def move_rocket(self, x_increment=0, y_increment=1):\n",
        "        self.x += x_increment\n",
        "        self.y += y_increment\n",
        "\n",
        "    def print_rocket(self):\n",
        "        print(self.x, self.y)\n",
        ""
      ]
    },
    {
      "cell_type": "code",
      "source": [
        "# Solução 1\n",
        "roc1 = Rocket(15, -15)\n",
        "print(roc1.x)\n",
        "print(roc1.y)\n",
        "print('------------')\n",
        "roc1.print_rocket()\n",
        "roc1.move_rocket(5, 5)\n",
        "roc1.print_rocket()"
      ],
      "metadata": {
        "id": "WuUNrAUShHWx",
        "outputId": "df20a1df-eebb-432e-ab89-d473977ba5a6",
        "colab": {
          "base_uri": "https://localhost:8080/"
        }
      },
      "execution_count": 5,
      "outputs": [
        {
          "output_type": "stream",
          "name": "stdout",
          "text": [
            "15\n",
            "-15\n",
            "------------\n",
            "15 -15\n",
            "20 -10\n"
          ]
        }
      ]
    },
    {
      "cell_type": "code",
      "execution_count": 8,
      "metadata": {
        "id": "nRqdJA2ce8qS",
        "outputId": "588b527d-b33b-46bf-f118-226bb759bbec",
        "colab": {
          "base_uri": "https://localhost:8080/"
        }
      },
      "outputs": [
        {
          "output_type": "stream",
          "name": "stdout",
          "text": [
            "Nome: Thiago\n",
            "Cidade: Indaiatuba\n",
            "Telefone: 16 9988-7766\n",
            "E-mail: bastos_acccw@hotmail.com\n",
            "Telefone alterado para 16 9966-7788\n"
          ]
        }
      ],
      "source": [
        "# Exercício 2 - Crie uma classe chamada Pessoa() com os atributos: nome, cidade, telefone e e-mail. Use pelo menos 2\n",
        "# métodos especiais na sua classe. Crie um objeto da sua classe e faça uma chamada a pelo menos um dos seus métodos\n",
        "# especiais.\n",
        "\n",
        "# Solução 2\n",
        "class Pessoa():\n",
        "\n",
        "  def __init__(self, nome, cidade, telefone, email):\n",
        "    self.nome = nome\n",
        "    self.cidade = cidade\n",
        "    self.telefone = telefone\n",
        "    self.email = email\n",
        "\n",
        "  def dados(self):\n",
        "    print(f\"Nome: {self.nome}\")\n",
        "    print(f\"Cidade: {self.cidade}\")\n",
        "    print(f\"Telefone: {self.telefone}\")\n",
        "    print(f\"E-mail: {self.email}\")\n",
        "\n",
        "  def setTelefone(self, telefone):\n",
        "    self.telefone = telefone\n",
        "    print(f\"Telefone alterado para {self.telefone}\")\n",
        "\n",
        "pessoa1 = Pessoa('Thiago', 'Indaiatuba', '16 9988-7766', 'bastos_acccw@hotmail.com')\n",
        "pessoa1.dados()\n",
        "pessoa1.setTelefone('16 9966-7788')"
      ]
    },
    {
      "cell_type": "code",
      "execution_count": 10,
      "metadata": {
        "id": "hFt2dVWve8qT",
        "outputId": "da0b190c-a8e4-445a-b621-e08bfe78f353",
        "colab": {
          "base_uri": "https://localhost:8080/"
        }
      },
      "outputs": [
        {
          "output_type": "stream",
          "name": "stdout",
          "text": [
            "Tamanho: Grande\n",
            "Interface: touch\n",
            "Capacidade: 128GB\n"
          ]
        }
      ],
      "source": [
        "# Exercício 3 - Crie a classe Smartphone com 2 atributos, tamanho e interface e crie a classe MP3Player com os\n",
        "# atributos capacidade. A classe MP3player deve herdar os atributos da classe Smartphone.\n",
        "\n",
        "# Solução 3\n",
        "class Smartphone():\n",
        "\n",
        "  def __init__(self, tamanho, interface):\n",
        "    self.tamanho = tamanho\n",
        "    self.interface = interface\n",
        "\n",
        "  def informacoes(self):\n",
        "    pass\n",
        "\n",
        "class MP3Player(Smartphone):\n",
        "\n",
        "  def __init__(self, tamanho, interface, capacidade):\n",
        "    Smartphone.__init__(self, tamanho, interface)\n",
        "    self.capacidade = capacidade\n",
        "\n",
        "  def informacoes(self):\n",
        "    print(f\"Tamanho: {self.tamanho}\")\n",
        "    print(f\"Interface: {self.interface}\")\n",
        "    print(f\"Capacidade: {self.capacidade}\")\n",
        "\n",
        "musica = MP3Player('Grande', 'touch', '128GB')\n",
        "musica.informacoes()"
      ]
    },
    {
      "cell_type": "markdown",
      "metadata": {
        "id": "nF1X_X9me8qT"
      },
      "source": [
        "### FIM"
      ]
    },
    {
      "cell_type": "markdown",
      "metadata": {
        "id": "lbgwWeJSe8qU"
      },
      "source": [
        "### Obrigado\n",
        "\n",
        "### Visite o Blog da Data Science Academy - <a href=\"http://blog.dsacademy.com.br\">Blog DSA</a>"
      ]
    }
  ],
  "metadata": {
    "kernelspec": {
      "display_name": "Python 3 (ipykernel)",
      "language": "python",
      "name": "python3"
    },
    "language_info": {
      "codemirror_mode": {
        "name": "ipython",
        "version": 3
      },
      "file_extension": ".py",
      "mimetype": "text/x-python",
      "name": "python",
      "nbconvert_exporter": "python",
      "pygments_lexer": "ipython3",
      "version": "3.9.13"
    },
    "colab": {
      "provenance": []
    }
  },
  "nbformat": 4,
  "nbformat_minor": 0
}