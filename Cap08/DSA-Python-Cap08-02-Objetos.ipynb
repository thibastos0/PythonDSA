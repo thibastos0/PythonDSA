{
  "cells": [
    {
      "cell_type": "markdown",
      "metadata": {
        "id": "hA-7m5EFmF_D"
      },
      "source": [
        "# <font color='blue'>Data Science Academy</font>\n",
        "\n",
        "## <font color='blue'>Fundamentos de Linguagem Python Para Análise de Dados e Data Science</font>\n",
        "\n",
        "## <font color='blue'>Introdução à Programação Orientada a Objetos</font>"
      ]
    },
    {
      "cell_type": "code",
      "execution_count": null,
      "metadata": {
        "id": "E6IvVGmPmF_G",
        "outputId": "c5d460a1-4145-41cf-dd54-eb9abb3bb272",
        "colab": {
          "base_uri": "https://localhost:8080/"
        }
      },
      "outputs": [
        {
          "output_type": "stream",
          "name": "stdout",
          "text": [
            "Versão da Linguagem Python Usada Neste Jupyter Notebook: 3.10.12\n"
          ]
        }
      ],
      "source": [
        "# Versão da Linguagem Python\n",
        "from platform import python_version\n",
        "print('Versão da Linguagem Python Usada Neste Jupyter Notebook:', python_version())"
      ]
    },
    {
      "cell_type": "markdown",
      "metadata": {
        "id": "4c2l4w17mHbY"
      },
      "source": [
        "## Objetos"
      ]
    },
    {
      "cell_type": "markdown",
      "metadata": {
        "id": "gUT5cARYmHbZ"
      },
      "source": [
        "Em Python, Tudo é Objeto!"
      ]
    },
    {
      "cell_type": "code",
      "execution_count": null,
      "metadata": {
        "id": "t6hKAbKvmHbZ"
      },
      "outputs": [],
      "source": [
        "# Criando uma lista\n",
        "lst_num = [\"Data\", \"Science\", \"Academy\", \"Nota\", 10, 10]"
      ]
    },
    {
      "cell_type": "code",
      "execution_count": null,
      "metadata": {
        "id": "rMxok4ximHbb",
        "outputId": "eec99831-6c83-4e49-a1b5-8f7a43bf2f70",
        "colab": {
          "base_uri": "https://localhost:8080/"
        }
      },
      "outputs": [
        {
          "output_type": "execute_result",
          "data": {
            "text/plain": [
              "list"
            ]
          },
          "metadata": {},
          "execution_count": 3
        }
      ],
      "source": [
        "# A lista lst_num é um objeto, uma instância da classe lista em Python\n",
        "type(lst_num)"
      ]
    },
    {
      "cell_type": "code",
      "execution_count": null,
      "metadata": {
        "id": "YkEh03DsmHbc",
        "outputId": "3cbcbfc5-7ba4-467d-ec29-bb483583c56d",
        "colab": {
          "base_uri": "https://localhost:8080/"
        }
      },
      "outputs": [
        {
          "output_type": "stream",
          "name": "stdout",
          "text": [
            "<class 'list'>\n"
          ]
        }
      ],
      "source": [
        "print(type([]))"
      ]
    },
    {
      "cell_type": "code",
      "execution_count": null,
      "metadata": {
        "id": "9EeLqUE0mHbc",
        "outputId": "c48fda17-b73c-4cdb-e5cf-786518c9c869",
        "colab": {
          "base_uri": "https://localhost:8080/"
        }
      },
      "outputs": [
        {
          "output_type": "execute_result",
          "data": {
            "text/plain": [
              "2"
            ]
          },
          "metadata": {},
          "execution_count": 5
        }
      ],
      "source": [
        "lst_num.count(10)"
      ]
    },
    {
      "cell_type": "code",
      "execution_count": null,
      "metadata": {
        "id": "vSbRi5kUmHbd",
        "outputId": "4ab81f56-5ed9-43dd-ec68-bc978670dfe9",
        "colab": {
          "base_uri": "https://localhost:8080/"
        }
      },
      "outputs": [
        {
          "output_type": "stream",
          "name": "stdout",
          "text": [
            "<class 'int'>\n",
            "<class 'list'>\n",
            "<class 'tuple'>\n",
            "<class 'dict'>\n",
            "<class 'str'>\n"
          ]
        }
      ],
      "source": [
        "# Usamos a função type, para verificar o tipo de um objeto\n",
        "print(type(10))\n",
        "print(type([]))\n",
        "print(type(()))\n",
        "print(type({}))\n",
        "print(type('a'))"
      ]
    },
    {
      "cell_type": "code",
      "execution_count": null,
      "metadata": {
        "id": "gs2yu7DXmHbe"
      },
      "outputs": [],
      "source": [
        "# Criando um novo tipo de objeto chamado Carro\n",
        "class Carro(object):\n",
        "    pass"
      ]
    },
    {
      "cell_type": "code",
      "execution_count": null,
      "metadata": {
        "id": "X_y_tjK0mHbf"
      },
      "outputs": [],
      "source": [
        "# Instância do Carro\n",
        "ferrari = Carro()"
      ]
    },
    {
      "cell_type": "code",
      "execution_count": null,
      "metadata": {
        "id": "3-2QEJyImHbf",
        "outputId": "72186826-c935-4ba9-8df8-889751ddad02",
        "colab": {
          "base_uri": "https://localhost:8080/"
        }
      },
      "outputs": [
        {
          "output_type": "stream",
          "name": "stdout",
          "text": [
            "<class '__main__.Carro'>\n"
          ]
        }
      ],
      "source": [
        "print(type(ferrari))"
      ]
    },
    {
      "cell_type": "code",
      "execution_count": null,
      "metadata": {
        "id": "Ix67xIY-mHbg"
      },
      "outputs": [],
      "source": [
        "# Criando uma classe\n",
        "class Estudantes:\n",
        "    def __init__(self, nome, idade, nota):\n",
        "        self.nome = nome\n",
        "        self.idade = idade\n",
        "        self.nota = nota"
      ]
    },
    {
      "cell_type": "code",
      "execution_count": null,
      "metadata": {
        "id": "vLrVfRxMmHbh"
      },
      "outputs": [],
      "source": [
        "# Criando um objeto chamado Estudante1 a partir da classe Estudantes\n",
        "Estudante1 = Estudantes(\"Bob\", 12, 9.5)"
      ]
    },
    {
      "cell_type": "code",
      "execution_count": null,
      "metadata": {
        "id": "uVlR_TnamHbh",
        "outputId": "7b45156a-891c-4155-fa03-205bff9f472b",
        "colab": {
          "base_uri": "https://localhost:8080/",
          "height": 35
        }
      },
      "outputs": [
        {
          "output_type": "execute_result",
          "data": {
            "text/plain": [
              "'Bob'"
            ],
            "application/vnd.google.colaboratory.intrinsic+json": {
              "type": "string"
            }
          },
          "metadata": {},
          "execution_count": 12
        }
      ],
      "source": [
        "# Atributo da classe Estudante, utilizado por cada objeto criado a partir desta classe\n",
        "Estudante1.nome"
      ]
    },
    {
      "cell_type": "code",
      "execution_count": null,
      "metadata": {
        "id": "qEe6jw7ImHbh",
        "outputId": "d659ea73-3c29-4c9e-8dfe-1a0d321d955b",
        "colab": {
          "base_uri": "https://localhost:8080/"
        }
      },
      "outputs": [
        {
          "output_type": "execute_result",
          "data": {
            "text/plain": [
              "12"
            ]
          },
          "metadata": {},
          "execution_count": 13
        }
      ],
      "source": [
        "# Atributo da classe Estudante, utilizado por cada objeto criado a partir desta classe\n",
        "Estudante1.idade"
      ]
    },
    {
      "cell_type": "code",
      "execution_count": null,
      "metadata": {
        "id": "XoWIV4KimHbi",
        "outputId": "2f61db98-b6bf-40cc-eef0-d23dca70c8b2",
        "colab": {
          "base_uri": "https://localhost:8080/"
        }
      },
      "outputs": [
        {
          "output_type": "execute_result",
          "data": {
            "text/plain": [
              "9.5"
            ]
          },
          "metadata": {},
          "execution_count": 14
        }
      ],
      "source": [
        "# Atributo da classe Estudante, utilizado por cada objeto criado a partir desta classe\n",
        "Estudante1.nota"
      ]
    },
    {
      "cell_type": "code",
      "execution_count": 2,
      "metadata": {
        "id": "T64v3R52mHbj"
      },
      "outputs": [],
      "source": [
        "# Criando uma classe\n",
        "class Funcionarios:\n",
        "\n",
        "    def __init__(self, nome, salario, cargo):\n",
        "        self.nome = nome\n",
        "        self.salario = salario\n",
        "        self.cargo = cargo\n",
        "\n",
        "    def listFunc(self):\n",
        "        print(\"Funcionário(a) \" + self.nome + \" tem salário de R$\" + str(self.salario) + \" e o cargo é \" + self.cargo)"
      ]
    },
    {
      "cell_type": "code",
      "execution_count": 3,
      "metadata": {
        "id": "JT1PPCHUmHbk"
      },
      "outputs": [],
      "source": [
        "# Criando um objeto chamado Func1 a partir da classe Funcionarios\n",
        "Func1 = Funcionarios(\"Mary\", 20000, \"Cientista de Dados\")"
      ]
    },
    {
      "cell_type": "code",
      "execution_count": 4,
      "metadata": {
        "id": "oziWcqNMmHbk",
        "outputId": "89ed78c9-3374-4baa-f380-dd915bde6455",
        "colab": {
          "base_uri": "https://localhost:8080/"
        }
      },
      "outputs": [
        {
          "output_type": "stream",
          "name": "stdout",
          "text": [
            "Funcionário(a) Mary tem salário de R$20000 e o cargo é Cientista de Dados\n"
          ]
        }
      ],
      "source": [
        "# Usando o método da classe\n",
        "Func1.listFunc()"
      ]
    },
    {
      "cell_type": "code",
      "execution_count": 5,
      "metadata": {
        "id": "Y_uG_mZUmHbk",
        "outputId": "ab78184a-d5b7-4ef7-806e-0ea3c009f0ba",
        "colab": {
          "base_uri": "https://localhost:8080/"
        }
      },
      "outputs": [
        {
          "output_type": "stream",
          "name": "stdout",
          "text": [
            "**** Usando atributos *****\n"
          ]
        }
      ],
      "source": [
        "print(\"**** Usando atributos *****\")"
      ]
    },
    {
      "cell_type": "code",
      "execution_count": 6,
      "metadata": {
        "id": "6u1Vw7ggmHbl",
        "outputId": "59eb8b17-fc5e-4732-cd79-7d6944f82dc7",
        "colab": {
          "base_uri": "https://localhost:8080/"
        }
      },
      "outputs": [
        {
          "output_type": "execute_result",
          "data": {
            "text/plain": [
              "True"
            ]
          },
          "metadata": {},
          "execution_count": 6
        }
      ],
      "source": [
        "hasattr(Func1, \"nome\")"
      ]
    },
    {
      "cell_type": "code",
      "execution_count": 7,
      "metadata": {
        "id": "wVvG4qx1mHbl",
        "outputId": "3b6c485e-924b-46fe-977b-13d76d444411",
        "colab": {
          "base_uri": "https://localhost:8080/"
        }
      },
      "outputs": [
        {
          "output_type": "execute_result",
          "data": {
            "text/plain": [
              "True"
            ]
          },
          "metadata": {},
          "execution_count": 7
        }
      ],
      "source": [
        "hasattr(Func1, \"salario\")"
      ]
    },
    {
      "cell_type": "code",
      "execution_count": 8,
      "metadata": {
        "id": "WSGgJ2-amHbl"
      },
      "outputs": [],
      "source": [
        "setattr(Func1, \"salario\", 4500)"
      ]
    },
    {
      "cell_type": "code",
      "execution_count": 9,
      "metadata": {
        "id": "IfQHD2eymHbl",
        "outputId": "c3383715-e918-482a-fe46-0411f3f18fe7",
        "colab": {
          "base_uri": "https://localhost:8080/"
        }
      },
      "outputs": [
        {
          "output_type": "execute_result",
          "data": {
            "text/plain": [
              "True"
            ]
          },
          "metadata": {},
          "execution_count": 9
        }
      ],
      "source": [
        "hasattr(Func1, \"salario\")"
      ]
    },
    {
      "cell_type": "code",
      "execution_count": 10,
      "metadata": {
        "id": "yFm4DakDmHbm",
        "outputId": "f842a523-f3f6-463c-f305-b8a08d9dbd22",
        "colab": {
          "base_uri": "https://localhost:8080/"
        }
      },
      "outputs": [
        {
          "output_type": "execute_result",
          "data": {
            "text/plain": [
              "4500"
            ]
          },
          "metadata": {},
          "execution_count": 10
        }
      ],
      "source": [
        "getattr(Func1, \"salario\")"
      ]
    },
    {
      "cell_type": "code",
      "execution_count": 11,
      "metadata": {
        "id": "1i7ftohqmHbm"
      },
      "outputs": [],
      "source": [
        "delattr(Func1, \"salario\")"
      ]
    },
    {
      "cell_type": "code",
      "execution_count": 12,
      "metadata": {
        "id": "2D5k41HqmHbm",
        "outputId": "fec878a1-4417-4e71-f7ce-265cec9f9d9c",
        "colab": {
          "base_uri": "https://localhost:8080/"
        }
      },
      "outputs": [
        {
          "output_type": "execute_result",
          "data": {
            "text/plain": [
              "False"
            ]
          },
          "metadata": {},
          "execution_count": 12
        }
      ],
      "source": [
        "hasattr(Func1, \"salario\")"
      ]
    },
    {
      "cell_type": "markdown",
      "metadata": {
        "id": "iL94X86smHbm"
      },
      "source": [
        "# Fim"
      ]
    },
    {
      "cell_type": "markdown",
      "metadata": {
        "id": "6lzBtm0SmHbn"
      },
      "source": [
        "### Obrigado\n",
        "\n",
        "### Visite o Blog da Data Science Academy - <a href=\"http://blog.dsacademy.com.br\">Blog DSA</a>"
      ]
    }
  ],
  "metadata": {
    "kernelspec": {
      "display_name": "Python 3 (ipykernel)",
      "language": "python",
      "name": "python3"
    },
    "language_info": {
      "codemirror_mode": {
        "name": "ipython",
        "version": 3
      },
      "file_extension": ".py",
      "mimetype": "text/x-python",
      "name": "python",
      "nbconvert_exporter": "python",
      "pygments_lexer": "ipython3",
      "version": "3.9.13"
    },
    "colab": {
      "provenance": []
    }
  },
  "nbformat": 4,
  "nbformat_minor": 0
}